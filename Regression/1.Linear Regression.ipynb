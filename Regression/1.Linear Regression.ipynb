{
 "cells": [
  {
   "cell_type": "code",
   "execution_count": 1,
   "id": "921eaec6",
   "metadata": {},
   "outputs": [],
   "source": [
    "import numpy as np\n",
    "import pandas as pd\n",
    "from sklearn.linear_model import LinearRegression\n",
    "from sklearn import metrics as mt"
   ]
  },
  {
   "cell_type": "code",
   "execution_count": 2,
   "id": "f2a18797",
   "metadata": {},
   "outputs": [],
   "source": [
    "X_training = pd.read_csv (r\"C:\\Users\\muzio\\OneDrive\\Documentos\\repos\\machine_learning\\Regression\\X_training.csv\")\n",
    "y_training = pd.read_csv (r\"C:\\Users\\muzio\\OneDrive\\Documentos\\repos\\machine_learning\\Regression\\y_training.csv\")\n",
    "\n",
    "X_validation = pd.read_csv (r\"C:\\Users\\muzio\\OneDrive\\Documentos\\repos\\machine_learning\\Regression\\X_validation.csv\")\n",
    "y_validation = pd.read_csv (r\"C:\\Users\\muzio\\OneDrive\\Documentos\\repos\\machine_learning\\Regression\\y_validation.csv\")\n",
    "\n",
    "X_test = pd.read_csv (r\"C:\\Users\\muzio\\OneDrive\\Documentos\\repos\\machine_learning\\Regression\\X_test.csv\")\n",
    "y_test = pd.read_csv (r\"C:\\Users\\muzio\\OneDrive\\Documentos\\repos\\machine_learning\\Regression\\y_test.csv\")"
   ]
  },
  {
   "cell_type": "code",
   "execution_count": 3,
   "id": "bd2215b7",
   "metadata": {},
   "outputs": [],
   "source": [
    "#model definition\n",
    "lr_model = LinearRegression()\n",
    "#model fit (ajuste, treinamento)\n",
    "lr_model.fit(X_training, y_training)\n",
    "#previsao\n",
    "y_pred = lr_model.predict(X_training)"
   ]
  },
  {
   "cell_type": "code",
   "execution_count": 4,
   "id": "8683e1d9",
   "metadata": {},
   "outputs": [
    {
     "data": {
      "application/vnd.microsoft.datawrangler.viewer.v0+json": {
       "columns": [
        {
         "name": "index",
         "rawType": "int64",
         "type": "integer"
        },
        {
         "name": "R2",
         "rawType": "float64",
         "type": "float"
        },
        {
         "name": "MSE",
         "rawType": "float64",
         "type": "float"
        },
        {
         "name": "RMSE",
         "rawType": "float64",
         "type": "float"
        },
        {
         "name": "MAE",
         "rawType": "float64",
         "type": "float"
        },
        {
         "name": "MAPE",
         "rawType": "float64",
         "type": "float"
        }
       ],
       "ref": "1713f321-68e9-418a-b900-e1fcab49901b",
       "rows": [
        [
         "0",
         "0.04605830473391903",
         "455.99611182562677",
         "21.35406546364478",
         "16.998249066011095",
         "8.653185943804512"
        ]
       ],
       "shape": {
        "columns": 5,
        "rows": 1
       }
      },
      "text/html": [
       "<div>\n",
       "<style scoped>\n",
       "    .dataframe tbody tr th:only-of-type {\n",
       "        vertical-align: middle;\n",
       "    }\n",
       "\n",
       "    .dataframe tbody tr th {\n",
       "        vertical-align: top;\n",
       "    }\n",
       "\n",
       "    .dataframe thead th {\n",
       "        text-align: right;\n",
       "    }\n",
       "</style>\n",
       "<table border=\"1\" class=\"dataframe\">\n",
       "  <thead>\n",
       "    <tr style=\"text-align: right;\">\n",
       "      <th></th>\n",
       "      <th>R2</th>\n",
       "      <th>MSE</th>\n",
       "      <th>RMSE</th>\n",
       "      <th>MAE</th>\n",
       "      <th>MAPE</th>\n",
       "    </tr>\n",
       "  </thead>\n",
       "  <tbody>\n",
       "    <tr>\n",
       "      <th>0</th>\n",
       "      <td>0.046058</td>\n",
       "      <td>455.996112</td>\n",
       "      <td>21.354065</td>\n",
       "      <td>16.998249</td>\n",
       "      <td>8.653186</td>\n",
       "    </tr>\n",
       "  </tbody>\n",
       "</table>\n",
       "</div>"
      ],
      "text/plain": [
       "         R2         MSE       RMSE        MAE      MAPE\n",
       "0  0.046058  455.996112  21.354065  16.998249  8.653186"
      ]
     },
     "execution_count": 4,
     "metadata": {},
     "output_type": "execute_result"
    }
   ],
   "source": [
    "resultados = []\n",
    "\n",
    "# Calcula a acurácia (ou outra métrica que desejar)\n",
    "R2 = mt.r2_score(y_training, y_pred)\n",
    "MSE = mt.mean_squared_error(y_training, y_pred)\n",
    "RMSE = mt.root_mean_squared_error(y_training, y_pred)\n",
    "MAE = mt.mean_absolute_error(y_training, y_pred)        \n",
    "MAPE = mt.mean_absolute_percentage_error(y_training, y_pred)\n",
    "\n",
    "resultados.append({\n",
    "    'R2': R2,\n",
    "    'MSE': MSE,\n",
    "    'RMSE': RMSE,\n",
    "    'MAE': MAE,\n",
    "    'MAPE': MAPE\n",
    "})\n",
    "# Exibe os resultados em um DataFrame\n",
    "pd.DataFrame(resultados)"
   ]
  },
  {
   "cell_type": "code",
   "execution_count": 5,
   "id": "213ca40e",
   "metadata": {},
   "outputs": [
    {
     "data": {
      "application/vnd.microsoft.datawrangler.viewer.v0+json": {
       "columns": [
        {
         "name": "index",
         "rawType": "int64",
         "type": "integer"
        },
        {
         "name": "R2",
         "rawType": "float64",
         "type": "float"
        },
        {
         "name": "MSE",
         "rawType": "float64",
         "type": "float"
        },
        {
         "name": "RMSE",
         "rawType": "float64",
         "type": "float"
        },
        {
         "name": "MAE",
         "rawType": "float64",
         "type": "float"
        },
        {
         "name": "MAPE",
         "rawType": "float64",
         "type": "float"
        }
       ],
       "ref": "b1f7a857-67e2-41f1-8a0d-ce024c330134",
       "rows": [
        [
         "0",
         "0.03992483038154071",
         "458.4470418439312",
         "21.41137645841414",
         "17.039753759960327",
         "8.682541883735295"
        ]
       ],
       "shape": {
        "columns": 5,
        "rows": 1
       }
      },
      "text/html": [
       "<div>\n",
       "<style scoped>\n",
       "    .dataframe tbody tr th:only-of-type {\n",
       "        vertical-align: middle;\n",
       "    }\n",
       "\n",
       "    .dataframe tbody tr th {\n",
       "        vertical-align: top;\n",
       "    }\n",
       "\n",
       "    .dataframe thead th {\n",
       "        text-align: right;\n",
       "    }\n",
       "</style>\n",
       "<table border=\"1\" class=\"dataframe\">\n",
       "  <thead>\n",
       "    <tr style=\"text-align: right;\">\n",
       "      <th></th>\n",
       "      <th>R2</th>\n",
       "      <th>MSE</th>\n",
       "      <th>RMSE</th>\n",
       "      <th>MAE</th>\n",
       "      <th>MAPE</th>\n",
       "    </tr>\n",
       "  </thead>\n",
       "  <tbody>\n",
       "    <tr>\n",
       "      <th>0</th>\n",
       "      <td>0.039925</td>\n",
       "      <td>458.447042</td>\n",
       "      <td>21.411376</td>\n",
       "      <td>17.039754</td>\n",
       "      <td>8.682542</td>\n",
       "    </tr>\n",
       "  </tbody>\n",
       "</table>\n",
       "</div>"
      ],
      "text/plain": [
       "         R2         MSE       RMSE        MAE      MAPE\n",
       "0  0.039925  458.447042  21.411376  17.039754  8.682542"
      ]
     },
     "execution_count": 5,
     "metadata": {},
     "output_type": "execute_result"
    }
   ],
   "source": [
    "#Validation\n",
    "lr_model = LinearRegression()\n",
    "#model fit (ajuste, treinamento)\n",
    "lr_model.fit(X_training, y_training)\n",
    "#previsao\n",
    "y_pred = lr_model.predict(X_validation)\n",
    "\n",
    "\n",
    "resultados = []\n",
    "\n",
    "# Calcula a acurácia (ou outra métrica que desejar)\n",
    "R2 = mt.r2_score(y_validation, y_pred)\n",
    "MSE = mt.mean_squared_error(y_validation, y_pred)\n",
    "RMSE = mt.root_mean_squared_error(y_validation, y_pred)\n",
    "MAE = mt.mean_absolute_error(y_validation, y_pred)        \n",
    "MAPE = mt.mean_absolute_percentage_error(y_validation, y_pred)\n",
    "\n",
    "resultados.append({\n",
    "    'R2': R2,\n",
    "    'MSE': MSE,\n",
    "    'RMSE': RMSE,\n",
    "    'MAE': MAE,\n",
    "    'MAPE': MAPE\n",
    "})\n",
    "# Exibe os resultados em um DataFrame\n",
    "pd.DataFrame(resultados)"
   ]
  },
  {
   "cell_type": "code",
   "execution_count": 6,
   "id": "ffa185b2",
   "metadata": {},
   "outputs": [
    {
     "data": {
      "application/vnd.microsoft.datawrangler.viewer.v0+json": {
       "columns": [
        {
         "name": "index",
         "rawType": "int64",
         "type": "integer"
        },
        {
         "name": "R2",
         "rawType": "float64",
         "type": "float"
        },
        {
         "name": "MSE",
         "rawType": "float64",
         "type": "float"
        },
        {
         "name": "RMSE",
         "rawType": "float64",
         "type": "float"
        },
        {
         "name": "MAE",
         "rawType": "float64",
         "type": "float"
        },
        {
         "name": "MAPE",
         "rawType": "float64",
         "type": "float"
        }
       ],
       "ref": "09e72d42-a3c0-471c-8795-87427ffedc65",
       "rows": [
        [
         "0",
         "0.05116551777115064",
         "461.9884353525593",
         "21.4939162404751",
         "17.144197086987703",
         "8.531355027820085"
        ]
       ],
       "shape": {
        "columns": 5,
        "rows": 1
       }
      },
      "text/html": [
       "<div>\n",
       "<style scoped>\n",
       "    .dataframe tbody tr th:only-of-type {\n",
       "        vertical-align: middle;\n",
       "    }\n",
       "\n",
       "    .dataframe tbody tr th {\n",
       "        vertical-align: top;\n",
       "    }\n",
       "\n",
       "    .dataframe thead th {\n",
       "        text-align: right;\n",
       "    }\n",
       "</style>\n",
       "<table border=\"1\" class=\"dataframe\">\n",
       "  <thead>\n",
       "    <tr style=\"text-align: right;\">\n",
       "      <th></th>\n",
       "      <th>R2</th>\n",
       "      <th>MSE</th>\n",
       "      <th>RMSE</th>\n",
       "      <th>MAE</th>\n",
       "      <th>MAPE</th>\n",
       "    </tr>\n",
       "  </thead>\n",
       "  <tbody>\n",
       "    <tr>\n",
       "      <th>0</th>\n",
       "      <td>0.051166</td>\n",
       "      <td>461.988435</td>\n",
       "      <td>21.493916</td>\n",
       "      <td>17.144197</td>\n",
       "      <td>8.531355</td>\n",
       "    </tr>\n",
       "  </tbody>\n",
       "</table>\n",
       "</div>"
      ],
      "text/plain": [
       "         R2         MSE       RMSE        MAE      MAPE\n",
       "0  0.051166  461.988435  21.493916  17.144197  8.531355"
      ]
     },
     "execution_count": 6,
     "metadata": {},
     "output_type": "execute_result"
    }
   ],
   "source": [
    "# Retrain on train+val and evaluate on test set\n",
    "\n",
    "lr_model = LinearRegression()\n",
    "#model fit (ajuste, treinamento)\n",
    "lr_model.fit(pd.concat([X_training, X_validation]), np.concatenate([y_training, y_validation]))\n",
    "#previsao\n",
    "y_pred_test = lr_model.predict(X_test)\n",
    "\n",
    "\n",
    "resultados = []\n",
    "\n",
    "# Calcula a acurácia (ou outra métrica que desejar)\n",
    "R2 = mt.r2_score(y_test, y_pred_test)\n",
    "MSE = mt.mean_squared_error(y_test, y_pred_test)\n",
    "RMSE = mt.root_mean_squared_error(y_test, y_pred_test)\n",
    "MAE = mt.mean_absolute_error(y_test, y_pred_test)        \n",
    "MAPE = mt.mean_absolute_percentage_error(y_test, y_pred_test)\n",
    "\n",
    "resultados.append({\n",
    "    'R2': R2,\n",
    "    'MSE': MSE,\n",
    "    'RMSE': RMSE,\n",
    "    'MAE': MAE,\n",
    "    'MAPE': MAPE\n",
    "})\n",
    "# Exibe os resultados em um DataFrame\n",
    "pd.DataFrame(resultados)\n",
    "\n",
    "\n"
   ]
  }
 ],
 "metadata": {
  "kernelspec": {
   "display_name": "bacon",
   "language": "python",
   "name": "python3"
  },
  "language_info": {
   "codemirror_mode": {
    "name": "ipython",
    "version": 3
   },
   "file_extension": ".py",
   "mimetype": "text/x-python",
   "name": "python",
   "nbconvert_exporter": "python",
   "pygments_lexer": "ipython3",
   "version": "3.12.11"
  }
 },
 "nbformat": 4,
 "nbformat_minor": 5
}
