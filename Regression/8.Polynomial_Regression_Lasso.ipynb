{
 "cells": [
  {
   "cell_type": "code",
   "execution_count": 1,
   "id": "f361b071",
   "metadata": {},
   "outputs": [],
   "source": [
    "# Imports \n",
    "import numpy                        as np \n",
    "import pandas                       as pd\n",
    "from sklearn import preprocessing   as pp \n",
    "from sklearn import linear_model    as lm \n",
    "from sklearn import metrics         as mt"
   ]
  },
  {
   "cell_type": "code",
   "execution_count": 2,
   "id": "1673013c",
   "metadata": {},
   "outputs": [],
   "source": [
    "X_training = pd.read_csv (r\"C:\\Users\\muzio\\OneDrive\\Documentos\\repos\\machine_learning\\Regression\\X_training.csv\")\n",
    "y_training = pd.read_csv (r\"C:\\Users\\muzio\\OneDrive\\Documentos\\repos\\machine_learning\\Regression\\y_training.csv\")\n",
    "\n",
    "X_validation = pd.read_csv (r\"C:\\Users\\muzio\\OneDrive\\Documentos\\repos\\machine_learning\\Regression\\X_validation.csv\")\n",
    "y_validation = pd.read_csv (r\"C:\\Users\\muzio\\OneDrive\\Documentos\\repos\\machine_learning\\Regression\\y_validation.csv\")\n",
    "\n",
    "X_test = pd.read_csv (r\"C:\\Users\\muzio\\OneDrive\\Documentos\\repos\\machine_learning\\Regression\\X_test.csv\")\n",
    "y_test = pd.read_csv (r\"C:\\Users\\muzio\\OneDrive\\Documentos\\repos\\machine_learning\\Regression\\y_test.csv\")"
   ]
  },
  {
   "cell_type": "code",
   "execution_count": null,
   "id": "3ef04118",
   "metadata": {},
   "outputs": [
    {
     "data": {
      "application/vnd.microsoft.datawrangler.viewer.v0+json": {
       "columns": [
        {
         "name": "index",
         "rawType": "int64",
         "type": "integer"
        },
        {
         "name": "alpha",
         "rawType": "int64",
         "type": "integer"
        },
        {
         "name": "R2",
         "rawType": "float64",
         "type": "float"
        },
        {
         "name": "MSE",
         "rawType": "float64",
         "type": "float"
        },
        {
         "name": "RMSE",
         "rawType": "float64",
         "type": "float"
        },
        {
         "name": "MAE",
         "rawType": "float64",
         "type": "float"
        },
        {
         "name": "MAPE",
         "rawType": "float64",
         "type": "float"
        }
       ],
       "ref": "9a262da2-32ff-4b39-bcea-f7b68494032e",
       "rows": [
        [
         "0",
         "1",
         "0.009149935251170582",
         "473.6387760067563",
         "21.763243692215468",
         "17.285449661261286",
         "8.699700898061742"
        ],
        [
         "1",
         "2",
         "0.0020723710924044347",
         "477.0219405687095",
         "21.84083195688089",
         "17.34563246616679",
         "8.715424580466461"
        ],
        [
         "2",
         "3",
         "0.0008273037087663804",
         "477.61709841610974",
         "21.854452599324233",
         "17.35746376404773",
         "8.727231766505087"
        ],
        [
         "3",
         "4",
         "0.00020377957201489494",
         "477.91515078492756",
         "21.861270566573378",
         "17.363317759269727",
         "8.738966305043764"
        ],
        [
         "4",
         "5",
         "0.0",
         "478.012559979818",
         "21.863498347241183",
         "17.3650904457618",
         "8.742212844953098"
        ],
        [
         "5",
         "6",
         "0.0",
         "478.012559979818",
         "21.863498347241183",
         "17.3650904457618",
         "8.742212844953098"
        ],
        [
         "6",
         "7",
         "0.0",
         "478.012559979818",
         "21.863498347241183",
         "17.3650904457618",
         "8.742212844953098"
        ],
        [
         "7",
         "8",
         "0.0",
         "478.012559979818",
         "21.863498347241183",
         "17.3650904457618",
         "8.742212844953098"
        ],
        [
         "8",
         "9",
         "0.0",
         "478.012559979818",
         "21.863498347241183",
         "17.3650904457618",
         "8.742212844953098"
        ],
        [
         "9",
         "10",
         "0.0",
         "478.012559979818",
         "21.863498347241183",
         "17.3650904457618",
         "8.742212844953098"
        ],
        [
         "10",
         "11",
         "0.0",
         "478.012559979818",
         "21.863498347241183",
         "17.3650904457618",
         "8.742212844953098"
        ],
        [
         "11",
         "12",
         "0.0",
         "478.012559979818",
         "21.863498347241183",
         "17.3650904457618",
         "8.742212844953098"
        ],
        [
         "12",
         "13",
         "0.0",
         "478.012559979818",
         "21.863498347241183",
         "17.3650904457618",
         "8.742212844953098"
        ],
        [
         "13",
         "14",
         "0.0",
         "478.012559979818",
         "21.863498347241183",
         "17.3650904457618",
         "8.742212844953098"
        ]
       ],
       "shape": {
        "columns": 6,
        "rows": 14
       }
      },
      "text/html": [
       "<div>\n",
       "<style scoped>\n",
       "    .dataframe tbody tr th:only-of-type {\n",
       "        vertical-align: middle;\n",
       "    }\n",
       "\n",
       "    .dataframe tbody tr th {\n",
       "        vertical-align: top;\n",
       "    }\n",
       "\n",
       "    .dataframe thead th {\n",
       "        text-align: right;\n",
       "    }\n",
       "</style>\n",
       "<table border=\"1\" class=\"dataframe\">\n",
       "  <thead>\n",
       "    <tr style=\"text-align: right;\">\n",
       "      <th></th>\n",
       "      <th>alpha</th>\n",
       "      <th>R2</th>\n",
       "      <th>MSE</th>\n",
       "      <th>RMSE</th>\n",
       "      <th>MAE</th>\n",
       "      <th>MAPE</th>\n",
       "    </tr>\n",
       "  </thead>\n",
       "  <tbody>\n",
       "    <tr>\n",
       "      <th>0</th>\n",
       "      <td>1</td>\n",
       "      <td>0.009150</td>\n",
       "      <td>473.638776</td>\n",
       "      <td>21.763244</td>\n",
       "      <td>17.285450</td>\n",
       "      <td>8.699701</td>\n",
       "    </tr>\n",
       "    <tr>\n",
       "      <th>1</th>\n",
       "      <td>2</td>\n",
       "      <td>0.002072</td>\n",
       "      <td>477.021941</td>\n",
       "      <td>21.840832</td>\n",
       "      <td>17.345632</td>\n",
       "      <td>8.715425</td>\n",
       "    </tr>\n",
       "    <tr>\n",
       "      <th>2</th>\n",
       "      <td>3</td>\n",
       "      <td>0.000827</td>\n",
       "      <td>477.617098</td>\n",
       "      <td>21.854453</td>\n",
       "      <td>17.357464</td>\n",
       "      <td>8.727232</td>\n",
       "    </tr>\n",
       "    <tr>\n",
       "      <th>3</th>\n",
       "      <td>4</td>\n",
       "      <td>0.000204</td>\n",
       "      <td>477.915151</td>\n",
       "      <td>21.861271</td>\n",
       "      <td>17.363318</td>\n",
       "      <td>8.738966</td>\n",
       "    </tr>\n",
       "    <tr>\n",
       "      <th>4</th>\n",
       "      <td>5</td>\n",
       "      <td>0.000000</td>\n",
       "      <td>478.012560</td>\n",
       "      <td>21.863498</td>\n",
       "      <td>17.365090</td>\n",
       "      <td>8.742213</td>\n",
       "    </tr>\n",
       "    <tr>\n",
       "      <th>5</th>\n",
       "      <td>6</td>\n",
       "      <td>0.000000</td>\n",
       "      <td>478.012560</td>\n",
       "      <td>21.863498</td>\n",
       "      <td>17.365090</td>\n",
       "      <td>8.742213</td>\n",
       "    </tr>\n",
       "    <tr>\n",
       "      <th>6</th>\n",
       "      <td>7</td>\n",
       "      <td>0.000000</td>\n",
       "      <td>478.012560</td>\n",
       "      <td>21.863498</td>\n",
       "      <td>17.365090</td>\n",
       "      <td>8.742213</td>\n",
       "    </tr>\n",
       "    <tr>\n",
       "      <th>7</th>\n",
       "      <td>8</td>\n",
       "      <td>0.000000</td>\n",
       "      <td>478.012560</td>\n",
       "      <td>21.863498</td>\n",
       "      <td>17.365090</td>\n",
       "      <td>8.742213</td>\n",
       "    </tr>\n",
       "    <tr>\n",
       "      <th>8</th>\n",
       "      <td>9</td>\n",
       "      <td>0.000000</td>\n",
       "      <td>478.012560</td>\n",
       "      <td>21.863498</td>\n",
       "      <td>17.365090</td>\n",
       "      <td>8.742213</td>\n",
       "    </tr>\n",
       "    <tr>\n",
       "      <th>9</th>\n",
       "      <td>10</td>\n",
       "      <td>0.000000</td>\n",
       "      <td>478.012560</td>\n",
       "      <td>21.863498</td>\n",
       "      <td>17.365090</td>\n",
       "      <td>8.742213</td>\n",
       "    </tr>\n",
       "    <tr>\n",
       "      <th>10</th>\n",
       "      <td>11</td>\n",
       "      <td>0.000000</td>\n",
       "      <td>478.012560</td>\n",
       "      <td>21.863498</td>\n",
       "      <td>17.365090</td>\n",
       "      <td>8.742213</td>\n",
       "    </tr>\n",
       "    <tr>\n",
       "      <th>11</th>\n",
       "      <td>12</td>\n",
       "      <td>0.000000</td>\n",
       "      <td>478.012560</td>\n",
       "      <td>21.863498</td>\n",
       "      <td>17.365090</td>\n",
       "      <td>8.742213</td>\n",
       "    </tr>\n",
       "    <tr>\n",
       "      <th>12</th>\n",
       "      <td>13</td>\n",
       "      <td>0.000000</td>\n",
       "      <td>478.012560</td>\n",
       "      <td>21.863498</td>\n",
       "      <td>17.365090</td>\n",
       "      <td>8.742213</td>\n",
       "    </tr>\n",
       "    <tr>\n",
       "      <th>13</th>\n",
       "      <td>14</td>\n",
       "      <td>0.000000</td>\n",
       "      <td>478.012560</td>\n",
       "      <td>21.863498</td>\n",
       "      <td>17.365090</td>\n",
       "      <td>8.742213</td>\n",
       "    </tr>\n",
       "  </tbody>\n",
       "</table>\n",
       "</div>"
      ],
      "text/plain": [
       "    alpha        R2         MSE       RMSE        MAE      MAPE\n",
       "0       1  0.009150  473.638776  21.763244  17.285450  8.699701\n",
       "1       2  0.002072  477.021941  21.840832  17.345632  8.715425\n",
       "2       3  0.000827  477.617098  21.854453  17.357464  8.727232\n",
       "3       4  0.000204  477.915151  21.861271  17.363318  8.738966\n",
       "4       5  0.000000  478.012560  21.863498  17.365090  8.742213\n",
       "5       6  0.000000  478.012560  21.863498  17.365090  8.742213\n",
       "6       7  0.000000  478.012560  21.863498  17.365090  8.742213\n",
       "7       8  0.000000  478.012560  21.863498  17.365090  8.742213\n",
       "8       9  0.000000  478.012560  21.863498  17.365090  8.742213\n",
       "9      10  0.000000  478.012560  21.863498  17.365090  8.742213\n",
       "10     11  0.000000  478.012560  21.863498  17.365090  8.742213\n",
       "11     12  0.000000  478.012560  21.863498  17.365090  8.742213\n",
       "12     13  0.000000  478.012560  21.863498  17.365090  8.742213\n",
       "13     14  0.000000  478.012560  21.863498  17.365090  8.742213"
      ]
     },
     "execution_count": 15,
     "metadata": {},
     "output_type": "execute_result"
    }
   ],
   "source": [
    "# Training\n",
    "resultados = []\n",
    "\n",
    "for n in range (1, 15):\n",
    "    poly = pp.PolynomialFeatures(degree=3, include_bias=False)\n",
    "    X_poly = poly.fit_transform(X_training)\n",
    "    #Traning\n",
    "    model = lm.Lasso(alpha=n, max_iter=1000)\n",
    "    model.fit(X_poly, y_training)\n",
    "    # Predict\n",
    "    y_pred = model.predict(X_poly)\n",
    "\n",
    "    # Calcula a acurácia (ou outra métrica que desejar)\n",
    "    R2 = mt.r2_score(y_training, y_pred)\n",
    "    MSE = mt.mean_squared_error(y_training, y_pred)\n",
    "    RMSE = mt.root_mean_squared_error(y_training, y_pred)\n",
    "    MAE = mt.mean_absolute_error(y_training, y_pred)        \n",
    "    MAPE = mt.mean_absolute_percentage_error(y_training, y_pred)\n",
    "    resultados.append({\n",
    "        'alpha':n,\n",
    "        'R2': R2,\n",
    "        'MSE': MSE,\n",
    "        'RMSE': RMSE,\n",
    "        'MAE': MAE,\n",
    "        'MAPE': MAPE\n",
    "    })\n",
    "\n",
    "# Exibe os resultados em um DataFrame\n",
    "pd.DataFrame(resultados)"
   ]
  },
  {
   "cell_type": "code",
   "execution_count": 19,
   "id": "d8541e0a",
   "metadata": {},
   "outputs": [
    {
     "data": {
      "application/vnd.microsoft.datawrangler.viewer.v0+json": {
       "columns": [
        {
         "name": "index",
         "rawType": "int64",
         "type": "integer"
        },
        {
         "name": "degree",
         "rawType": "object",
         "type": "string"
        },
        {
         "name": "R2",
         "rawType": "float64",
         "type": "float"
        },
        {
         "name": "MSE",
         "rawType": "float64",
         "type": "float"
        },
        {
         "name": "RMSE",
         "rawType": "float64",
         "type": "float"
        },
        {
         "name": "MAE",
         "rawType": "float64",
         "type": "float"
        },
        {
         "name": "MAPE",
         "rawType": "float64",
         "type": "float"
        }
       ],
       "ref": "19546ed6-ec13-4048-8a12-cdbe522a5408",
       "rows": [
        [
         "0",
         "3",
         "0.014148018445439225",
         "470.75576886263883",
         "21.69690689620617",
         "17.18059540921976",
         "8.655827568999914"
        ]
       ],
       "shape": {
        "columns": 6,
        "rows": 1
       }
      },
      "text/html": [
       "<div>\n",
       "<style scoped>\n",
       "    .dataframe tbody tr th:only-of-type {\n",
       "        vertical-align: middle;\n",
       "    }\n",
       "\n",
       "    .dataframe tbody tr th {\n",
       "        vertical-align: top;\n",
       "    }\n",
       "\n",
       "    .dataframe thead th {\n",
       "        text-align: right;\n",
       "    }\n",
       "</style>\n",
       "<table border=\"1\" class=\"dataframe\">\n",
       "  <thead>\n",
       "    <tr style=\"text-align: right;\">\n",
       "      <th></th>\n",
       "      <th>degree</th>\n",
       "      <th>R2</th>\n",
       "      <th>MSE</th>\n",
       "      <th>RMSE</th>\n",
       "      <th>MAE</th>\n",
       "      <th>MAPE</th>\n",
       "    </tr>\n",
       "  </thead>\n",
       "  <tbody>\n",
       "    <tr>\n",
       "      <th>0</th>\n",
       "      <td>3</td>\n",
       "      <td>0.014148</td>\n",
       "      <td>470.755769</td>\n",
       "      <td>21.696907</td>\n",
       "      <td>17.180595</td>\n",
       "      <td>8.655828</td>\n",
       "    </tr>\n",
       "  </tbody>\n",
       "</table>\n",
       "</div>"
      ],
      "text/plain": [
       "  degree        R2         MSE       RMSE        MAE      MAPE\n",
       "0      3  0.014148  470.755769  21.696907  17.180595  8.655828"
      ]
     },
     "execution_count": 19,
     "metadata": {},
     "output_type": "execute_result"
    }
   ],
   "source": [
    "#Valeidation\n",
    "resultados = []\n",
    "\n",
    "poly = pp.PolynomialFeatures(degree=3, include_bias=False)\n",
    "X_poly_training = poly.fit_transform(X_training)\n",
    "X_poly_val = poly.transform(X_validation)\n",
    "#Traning\n",
    "model = lm.Lasso(alpha=1, max_iter=1000)\n",
    "model.fit(X_poly_training, y_training)\n",
    "# Predict\n",
    "y_pred = model.predict(X_poly_val)\n",
    "# Calcula a acurácia (ou outra métrica que desejar)\n",
    "R2 = mt.r2_score(y_validation, y_pred)\n",
    "MSE = mt.mean_squared_error(y_validation, y_pred)\n",
    "RMSE = mt.root_mean_squared_error(y_validation, y_pred)\n",
    "MAE = mt.mean_absolute_error(y_validation, y_pred)        \n",
    "MAPE = mt.mean_absolute_percentage_error(y_validation, y_pred)\n",
    "resultados.append({\n",
    "    'degree': \"3\",\n",
    "    'R2': R2,\n",
    "    'MSE': MSE,\n",
    "    'RMSE': RMSE,\n",
    "    'MAE': MAE,\n",
    "    'MAPE': MAPE\n",
    "})\n",
    "\n",
    "# Exibe os resultados em um DataFrame\n",
    "pd.DataFrame(resultados)"
   ]
  },
  {
   "cell_type": "code",
   "execution_count": 18,
   "id": "5f9172ea",
   "metadata": {},
   "outputs": [
    {
     "data": {
      "application/vnd.microsoft.datawrangler.viewer.v0+json": {
       "columns": [
        {
         "name": "index",
         "rawType": "int64",
         "type": "integer"
        },
        {
         "name": "degree",
         "rawType": "object",
         "type": "string"
        },
        {
         "name": "R2",
         "rawType": "float64",
         "type": "float"
        },
        {
         "name": "MSE",
         "rawType": "float64",
         "type": "float"
        },
        {
         "name": "RMSE",
         "rawType": "float64",
         "type": "float"
        },
        {
         "name": "MAE",
         "rawType": "float64",
         "type": "float"
        },
        {
         "name": "MAPE",
         "rawType": "float64",
         "type": "float"
        }
       ],
       "ref": "75af466a-67bf-44da-b3bf-fa453749ce58",
       "rows": [
        [
         "0",
         "3",
         "-0.001276330766747602",
         "487.5224225829854",
         "22.07990993149622",
         "17.440767654256224",
         "8.755602733509093"
        ]
       ],
       "shape": {
        "columns": 6,
        "rows": 1
       }
      },
      "text/html": [
       "<div>\n",
       "<style scoped>\n",
       "    .dataframe tbody tr th:only-of-type {\n",
       "        vertical-align: middle;\n",
       "    }\n",
       "\n",
       "    .dataframe tbody tr th {\n",
       "        vertical-align: top;\n",
       "    }\n",
       "\n",
       "    .dataframe thead th {\n",
       "        text-align: right;\n",
       "    }\n",
       "</style>\n",
       "<table border=\"1\" class=\"dataframe\">\n",
       "  <thead>\n",
       "    <tr style=\"text-align: right;\">\n",
       "      <th></th>\n",
       "      <th>degree</th>\n",
       "      <th>R2</th>\n",
       "      <th>MSE</th>\n",
       "      <th>RMSE</th>\n",
       "      <th>MAE</th>\n",
       "      <th>MAPE</th>\n",
       "    </tr>\n",
       "  </thead>\n",
       "  <tbody>\n",
       "    <tr>\n",
       "      <th>0</th>\n",
       "      <td>3</td>\n",
       "      <td>-0.001276</td>\n",
       "      <td>487.522423</td>\n",
       "      <td>22.07991</td>\n",
       "      <td>17.440768</td>\n",
       "      <td>8.755603</td>\n",
       "    </tr>\n",
       "  </tbody>\n",
       "</table>\n",
       "</div>"
      ],
      "text/plain": [
       "  degree        R2         MSE      RMSE        MAE      MAPE\n",
       "0      3 -0.001276  487.522423  22.07991  17.440768  8.755603"
      ]
     },
     "execution_count": 18,
     "metadata": {},
     "output_type": "execute_result"
    }
   ],
   "source": [
    "#Training + Validation and testing \n",
    "resultados = []\n",
    "\n",
    "poly = pp.PolynomialFeatures(degree=3, include_bias=False)\n",
    "X_trainval = pd.concat([X_training, X_validation])\n",
    "y_trainval = pd.concat([y_training, y_validation])\n",
    "\n",
    "# Fit transformer on train+val, transform both train+val and test\n",
    "X_poly_trainval = poly.fit_transform(X_trainval)\n",
    "X_poly_test = poly.transform(X_test)\n",
    "\n",
    "model = lm.Lasso(alpha=1, max_iter=1000)\n",
    "model.fit(X_poly_trainval, y_trainval)\n",
    "y_pred_test = model.predict(X_poly_test)\n",
    "# Calcula a acurácia (ou outra métrica que desejar)\n",
    "R2 = mt.r2_score(y_test, y_pred_test)\n",
    "MSE = mt.mean_squared_error(y_test, y_pred_test)\n",
    "RMSE = mt.root_mean_squared_error(y_test, y_pred_test)\n",
    "MAE = mt.mean_absolute_error(y_test, y_pred_test)        \n",
    "MAPE = mt.mean_absolute_percentage_error(y_test, y_pred_test)\n",
    "resultados.append({\n",
    "    'degree': \"3\",\n",
    "    'R2': R2,\n",
    "    'MSE': MSE,\n",
    "    'RMSE': RMSE,\n",
    "    'MAE': MAE,\n",
    "    'MAPE': MAPE\n",
    "})\n",
    "\n",
    "# Exibe os resultados em um DataFrame\n",
    "pd.DataFrame(resultados)"
   ]
  }
 ],
 "metadata": {
  "kernelspec": {
   "display_name": "bacon",
   "language": "python",
   "name": "python3"
  },
  "language_info": {
   "codemirror_mode": {
    "name": "ipython",
    "version": 3
   },
   "file_extension": ".py",
   "mimetype": "text/x-python",
   "name": "python",
   "nbconvert_exporter": "python",
   "pygments_lexer": "ipython3",
   "version": "3.12.11"
  }
 },
 "nbformat": 4,
 "nbformat_minor": 5
}
