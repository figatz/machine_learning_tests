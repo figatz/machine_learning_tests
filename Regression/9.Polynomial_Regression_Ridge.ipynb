{
 "cells": [
  {
   "cell_type": "code",
   "execution_count": 1,
   "id": "f361b071",
   "metadata": {},
   "outputs": [],
   "source": [
    "# Imports \n",
    "import numpy                        as np \n",
    "import pandas                       as pd\n",
    "from sklearn import preprocessing   as pp \n",
    "from sklearn import linear_model    as lm \n",
    "from sklearn import metrics         as mt"
   ]
  },
  {
   "cell_type": "code",
   "execution_count": 2,
   "id": "1673013c",
   "metadata": {},
   "outputs": [],
   "source": [
    "X_training = pd.read_csv (r\"C:\\Users\\muzio\\OneDrive\\Documentos\\repos\\machine_learning\\Regression\\X_training.csv\")\n",
    "y_training = pd.read_csv (r\"C:\\Users\\muzio\\OneDrive\\Documentos\\repos\\machine_learning\\Regression\\y_training.csv\")\n",
    "\n",
    "X_validation = pd.read_csv (r\"C:\\Users\\muzio\\OneDrive\\Documentos\\repos\\machine_learning\\Regression\\X_validation.csv\")\n",
    "y_validation = pd.read_csv (r\"C:\\Users\\muzio\\OneDrive\\Documentos\\repos\\machine_learning\\Regression\\y_validation.csv\")\n",
    "\n",
    "X_test = pd.read_csv (r\"C:\\Users\\muzio\\OneDrive\\Documentos\\repos\\machine_learning\\Regression\\X_test.csv\")\n",
    "y_test = pd.read_csv (r\"C:\\Users\\muzio\\OneDrive\\Documentos\\repos\\machine_learning\\Regression\\y_test.csv\")"
   ]
  },
  {
   "cell_type": "code",
   "execution_count": 7,
   "id": "3ef04118",
   "metadata": {},
   "outputs": [
    {
     "data": {
      "application/vnd.microsoft.datawrangler.viewer.v0+json": {
       "columns": [
        {
         "name": "index",
         "rawType": "int64",
         "type": "integer"
        },
        {
         "name": "alpha",
         "rawType": "int64",
         "type": "integer"
        },
        {
         "name": "R2",
         "rawType": "float64",
         "type": "float"
        },
        {
         "name": "MSE",
         "rawType": "float64",
         "type": "float"
        },
        {
         "name": "RMSE",
         "rawType": "float64",
         "type": "float"
        },
        {
         "name": "MAE",
         "rawType": "float64",
         "type": "float"
        },
        {
         "name": "MAPE",
         "rawType": "float64",
         "type": "float"
        }
       ],
       "ref": "75a08df0-08fd-43c2-bab4-ab1f2498a2d9",
       "rows": [
        [
         "0",
         "1",
         "0.09317140761274334",
         "433.4754569099274",
         "20.820073412693034",
         "16.471971837686485",
         "8.372689165744577"
        ],
        [
         "1",
         "2",
         "0.09254405714921743",
         "433.7753383110019",
         "20.82727390493057",
         "16.47934507636413",
         "8.382552942948776"
        ],
        [
         "2",
         "3",
         "0.09202369038468483",
         "434.02408016024464",
         "20.83324459032353",
         "16.48490281412401",
         "8.389584283149032"
        ],
        [
         "3",
         "4",
         "0.09155710553209151",
         "434.24711358008057",
         "20.83859672770891",
         "16.490171361159632",
         "8.395193221560028"
        ],
        [
         "4",
         "5",
         "0.09112794535521096",
         "434.4522575348726",
         "20.843518357870213",
         "16.495449021449907",
         "8.399909615419697"
        ],
        [
         "5",
         "6",
         "0.09072844520532386",
         "434.64322362423246",
         "20.84809880119126",
         "16.500284926070936",
         "8.403989297818784"
        ],
        [
         "6",
         "7",
         "0.09035386156605996",
         "434.82227930856357",
         "20.85239265188922",
         "16.504841169294995",
         "8.407593974318424"
        ],
        [
         "7",
         "8",
         "0.09000085588455631",
         "434.99102045806654",
         "20.856438345462212",
         "16.509169938995456",
         "8.410827419865143"
        ],
        [
         "8",
         "9",
         "0.08966688315821358",
         "435.15066361594904",
         "20.860265185657372",
         "16.513212945042596",
         "8.413759968461383"
        ],
        [
         "9",
         "10",
         "0.08934990903030315",
         "435.3021812302789",
         "20.863896597478597",
         "16.51693819995356",
         "8.416441841313206"
        ],
        [
         "10",
         "11",
         "0.08904825712919218",
         "435.44637462775177",
         "20.86735188345066",
         "16.52044345846897",
         "8.4189135253185"
        ],
        [
         "11",
         "12",
         "0.08876051671209251",
         "435.58391816113925",
         "20.87064728658743",
         "16.52378254983737",
         "8.421206037421591"
        ],
        [
         "12",
         "13",
         "0.0884854819606633",
         "435.7153882267533",
         "20.873796689312496",
         "16.526927648002246",
         "8.423343179325812"
        ],
        [
         "13",
         "14",
         "0.08822210962619326",
         "435.84128351058115",
         "20.8768121012424",
         "16.529933502302956",
         "8.425346877116388"
        ]
       ],
       "shape": {
        "columns": 6,
        "rows": 14
       }
      },
      "text/html": [
       "<div>\n",
       "<style scoped>\n",
       "    .dataframe tbody tr th:only-of-type {\n",
       "        vertical-align: middle;\n",
       "    }\n",
       "\n",
       "    .dataframe tbody tr th {\n",
       "        vertical-align: top;\n",
       "    }\n",
       "\n",
       "    .dataframe thead th {\n",
       "        text-align: right;\n",
       "    }\n",
       "</style>\n",
       "<table border=\"1\" class=\"dataframe\">\n",
       "  <thead>\n",
       "    <tr style=\"text-align: right;\">\n",
       "      <th></th>\n",
       "      <th>alpha</th>\n",
       "      <th>R2</th>\n",
       "      <th>MSE</th>\n",
       "      <th>RMSE</th>\n",
       "      <th>MAE</th>\n",
       "      <th>MAPE</th>\n",
       "    </tr>\n",
       "  </thead>\n",
       "  <tbody>\n",
       "    <tr>\n",
       "      <th>0</th>\n",
       "      <td>1</td>\n",
       "      <td>0.093171</td>\n",
       "      <td>433.475457</td>\n",
       "      <td>20.820073</td>\n",
       "      <td>16.471972</td>\n",
       "      <td>8.372689</td>\n",
       "    </tr>\n",
       "    <tr>\n",
       "      <th>1</th>\n",
       "      <td>2</td>\n",
       "      <td>0.092544</td>\n",
       "      <td>433.775338</td>\n",
       "      <td>20.827274</td>\n",
       "      <td>16.479345</td>\n",
       "      <td>8.382553</td>\n",
       "    </tr>\n",
       "    <tr>\n",
       "      <th>2</th>\n",
       "      <td>3</td>\n",
       "      <td>0.092024</td>\n",
       "      <td>434.024080</td>\n",
       "      <td>20.833245</td>\n",
       "      <td>16.484903</td>\n",
       "      <td>8.389584</td>\n",
       "    </tr>\n",
       "    <tr>\n",
       "      <th>3</th>\n",
       "      <td>4</td>\n",
       "      <td>0.091557</td>\n",
       "      <td>434.247114</td>\n",
       "      <td>20.838597</td>\n",
       "      <td>16.490171</td>\n",
       "      <td>8.395193</td>\n",
       "    </tr>\n",
       "    <tr>\n",
       "      <th>4</th>\n",
       "      <td>5</td>\n",
       "      <td>0.091128</td>\n",
       "      <td>434.452258</td>\n",
       "      <td>20.843518</td>\n",
       "      <td>16.495449</td>\n",
       "      <td>8.399910</td>\n",
       "    </tr>\n",
       "    <tr>\n",
       "      <th>5</th>\n",
       "      <td>6</td>\n",
       "      <td>0.090728</td>\n",
       "      <td>434.643224</td>\n",
       "      <td>20.848099</td>\n",
       "      <td>16.500285</td>\n",
       "      <td>8.403989</td>\n",
       "    </tr>\n",
       "    <tr>\n",
       "      <th>6</th>\n",
       "      <td>7</td>\n",
       "      <td>0.090354</td>\n",
       "      <td>434.822279</td>\n",
       "      <td>20.852393</td>\n",
       "      <td>16.504841</td>\n",
       "      <td>8.407594</td>\n",
       "    </tr>\n",
       "    <tr>\n",
       "      <th>7</th>\n",
       "      <td>8</td>\n",
       "      <td>0.090001</td>\n",
       "      <td>434.991020</td>\n",
       "      <td>20.856438</td>\n",
       "      <td>16.509170</td>\n",
       "      <td>8.410827</td>\n",
       "    </tr>\n",
       "    <tr>\n",
       "      <th>8</th>\n",
       "      <td>9</td>\n",
       "      <td>0.089667</td>\n",
       "      <td>435.150664</td>\n",
       "      <td>20.860265</td>\n",
       "      <td>16.513213</td>\n",
       "      <td>8.413760</td>\n",
       "    </tr>\n",
       "    <tr>\n",
       "      <th>9</th>\n",
       "      <td>10</td>\n",
       "      <td>0.089350</td>\n",
       "      <td>435.302181</td>\n",
       "      <td>20.863897</td>\n",
       "      <td>16.516938</td>\n",
       "      <td>8.416442</td>\n",
       "    </tr>\n",
       "    <tr>\n",
       "      <th>10</th>\n",
       "      <td>11</td>\n",
       "      <td>0.089048</td>\n",
       "      <td>435.446375</td>\n",
       "      <td>20.867352</td>\n",
       "      <td>16.520443</td>\n",
       "      <td>8.418914</td>\n",
       "    </tr>\n",
       "    <tr>\n",
       "      <th>11</th>\n",
       "      <td>12</td>\n",
       "      <td>0.088761</td>\n",
       "      <td>435.583918</td>\n",
       "      <td>20.870647</td>\n",
       "      <td>16.523783</td>\n",
       "      <td>8.421206</td>\n",
       "    </tr>\n",
       "    <tr>\n",
       "      <th>12</th>\n",
       "      <td>13</td>\n",
       "      <td>0.088485</td>\n",
       "      <td>435.715388</td>\n",
       "      <td>20.873797</td>\n",
       "      <td>16.526928</td>\n",
       "      <td>8.423343</td>\n",
       "    </tr>\n",
       "    <tr>\n",
       "      <th>13</th>\n",
       "      <td>14</td>\n",
       "      <td>0.088222</td>\n",
       "      <td>435.841284</td>\n",
       "      <td>20.876812</td>\n",
       "      <td>16.529934</td>\n",
       "      <td>8.425347</td>\n",
       "    </tr>\n",
       "  </tbody>\n",
       "</table>\n",
       "</div>"
      ],
      "text/plain": [
       "    alpha        R2         MSE       RMSE        MAE      MAPE\n",
       "0       1  0.093171  433.475457  20.820073  16.471972  8.372689\n",
       "1       2  0.092544  433.775338  20.827274  16.479345  8.382553\n",
       "2       3  0.092024  434.024080  20.833245  16.484903  8.389584\n",
       "3       4  0.091557  434.247114  20.838597  16.490171  8.395193\n",
       "4       5  0.091128  434.452258  20.843518  16.495449  8.399910\n",
       "5       6  0.090728  434.643224  20.848099  16.500285  8.403989\n",
       "6       7  0.090354  434.822279  20.852393  16.504841  8.407594\n",
       "7       8  0.090001  434.991020  20.856438  16.509170  8.410827\n",
       "8       9  0.089667  435.150664  20.860265  16.513213  8.413760\n",
       "9      10  0.089350  435.302181  20.863897  16.516938  8.416442\n",
       "10     11  0.089048  435.446375  20.867352  16.520443  8.418914\n",
       "11     12  0.088761  435.583918  20.870647  16.523783  8.421206\n",
       "12     13  0.088485  435.715388  20.873797  16.526928  8.423343\n",
       "13     14  0.088222  435.841284  20.876812  16.529934  8.425347"
      ]
     },
     "execution_count": 7,
     "metadata": {},
     "output_type": "execute_result"
    }
   ],
   "source": [
    "# Training\n",
    "resultados = []\n",
    "\n",
    "for n in range (1, 15):\n",
    "    poly = pp.PolynomialFeatures(degree=2, include_bias=False)\n",
    "    X_poly = poly.fit_transform(X_training)\n",
    "    #Traning\n",
    "    model = lm.Ridge(alpha=n, max_iter=1000)\n",
    "    model.fit(X_poly, y_training)\n",
    "    # Predict\n",
    "    y_pred = model.predict(X_poly)\n",
    "\n",
    "    # Calcula a acurácia (ou outra métrica que desejar)\n",
    "    R2 = mt.r2_score(y_training, y_pred)\n",
    "    MSE = mt.mean_squared_error(y_training, y_pred)\n",
    "    RMSE = mt.root_mean_squared_error(y_training, y_pred)\n",
    "    MAE = mt.mean_absolute_error(y_training, y_pred)        \n",
    "    MAPE = mt.mean_absolute_percentage_error(y_training, y_pred)\n",
    "    resultados.append({\n",
    "        'alpha':n,\n",
    "        'R2': R2,\n",
    "        'MSE': MSE,\n",
    "        'RMSE': RMSE,\n",
    "        'MAE': MAE,\n",
    "        'MAPE': MAPE\n",
    "    })\n",
    "\n",
    "# Exibe os resultados em um DataFrame\n",
    "pd.DataFrame(resultados)"
   ]
  },
  {
   "cell_type": "code",
   "execution_count": 8,
   "id": "d8541e0a",
   "metadata": {},
   "outputs": [
    {
     "data": {
      "application/vnd.microsoft.datawrangler.viewer.v0+json": {
       "columns": [
        {
         "name": "index",
         "rawType": "int64",
         "type": "integer"
        },
        {
         "name": "degree",
         "rawType": "object",
         "type": "string"
        },
        {
         "name": "R2",
         "rawType": "float64",
         "type": "float"
        },
        {
         "name": "MSE",
         "rawType": "float64",
         "type": "float"
        },
        {
         "name": "RMSE",
         "rawType": "float64",
         "type": "float"
        },
        {
         "name": "MAE",
         "rawType": "float64",
         "type": "float"
        },
        {
         "name": "MAPE",
         "rawType": "float64",
         "type": "float"
        }
       ],
       "ref": "f7362755-b6cd-49d1-b987-9123182aa38e",
       "rows": [
        [
         "0",
         "2",
         "0.0676992996679171",
         "445.184410243757",
         "21.09939359895817",
         "16.738740611690584",
         "8.568992470935274"
        ]
       ],
       "shape": {
        "columns": 6,
        "rows": 1
       }
      },
      "text/html": [
       "<div>\n",
       "<style scoped>\n",
       "    .dataframe tbody tr th:only-of-type {\n",
       "        vertical-align: middle;\n",
       "    }\n",
       "\n",
       "    .dataframe tbody tr th {\n",
       "        vertical-align: top;\n",
       "    }\n",
       "\n",
       "    .dataframe thead th {\n",
       "        text-align: right;\n",
       "    }\n",
       "</style>\n",
       "<table border=\"1\" class=\"dataframe\">\n",
       "  <thead>\n",
       "    <tr style=\"text-align: right;\">\n",
       "      <th></th>\n",
       "      <th>degree</th>\n",
       "      <th>R2</th>\n",
       "      <th>MSE</th>\n",
       "      <th>RMSE</th>\n",
       "      <th>MAE</th>\n",
       "      <th>MAPE</th>\n",
       "    </tr>\n",
       "  </thead>\n",
       "  <tbody>\n",
       "    <tr>\n",
       "      <th>0</th>\n",
       "      <td>2</td>\n",
       "      <td>0.067699</td>\n",
       "      <td>445.18441</td>\n",
       "      <td>21.099394</td>\n",
       "      <td>16.738741</td>\n",
       "      <td>8.568992</td>\n",
       "    </tr>\n",
       "  </tbody>\n",
       "</table>\n",
       "</div>"
      ],
      "text/plain": [
       "  degree        R2        MSE       RMSE        MAE      MAPE\n",
       "0      2  0.067699  445.18441  21.099394  16.738741  8.568992"
      ]
     },
     "execution_count": 8,
     "metadata": {},
     "output_type": "execute_result"
    }
   ],
   "source": [
    "#Valeidation\n",
    "resultados = []\n",
    "\n",
    "poly = pp.PolynomialFeatures(degree=2, include_bias=False)\n",
    "X_poly_training = poly.fit_transform(X_training)\n",
    "X_poly_val = poly.transform(X_validation)\n",
    "#Traning\n",
    "model = lm.Ridge(alpha=1, max_iter=1000)\n",
    "model.fit(X_poly_training, y_training)\n",
    "# Predict\n",
    "y_pred = model.predict(X_poly_val)\n",
    "# Calcula a acurácia (ou outra métrica que desejar)\n",
    "R2 = mt.r2_score(y_validation, y_pred)\n",
    "MSE = mt.mean_squared_error(y_validation, y_pred)\n",
    "RMSE = mt.root_mean_squared_error(y_validation, y_pred)\n",
    "MAE = mt.mean_absolute_error(y_validation, y_pred)        \n",
    "MAPE = mt.mean_absolute_percentage_error(y_validation, y_pred)\n",
    "resultados.append({\n",
    "    'degree': \"2\",\n",
    "    'R2': R2,\n",
    "    'MSE': MSE,\n",
    "    'RMSE': RMSE,\n",
    "    'MAE': MAE,\n",
    "    'MAPE': MAPE\n",
    "})\n",
    "\n",
    "# Exibe os resultados em um DataFrame\n",
    "pd.DataFrame(resultados)"
   ]
  },
  {
   "cell_type": "code",
   "execution_count": 9,
   "id": "5f9172ea",
   "metadata": {},
   "outputs": [
    {
     "data": {
      "application/vnd.microsoft.datawrangler.viewer.v0+json": {
       "columns": [
        {
         "name": "index",
         "rawType": "int64",
         "type": "integer"
        },
        {
         "name": "degree",
         "rawType": "object",
         "type": "string"
        },
        {
         "name": "R2",
         "rawType": "float64",
         "type": "float"
        },
        {
         "name": "MSE",
         "rawType": "float64",
         "type": "float"
        },
        {
         "name": "RMSE",
         "rawType": "float64",
         "type": "float"
        },
        {
         "name": "MAE",
         "rawType": "float64",
         "type": "float"
        },
        {
         "name": "MAPE",
         "rawType": "float64",
         "type": "float"
        }
       ],
       "ref": "f2cf547d-07bd-41d2-9023-e9c3140470ea",
       "rows": [
        [
         "0",
         "2",
         "0.09023105908000828",
         "442.9673851657186",
         "21.046790376817995",
         "16.742213878468075",
         "8.308500709997729"
        ]
       ],
       "shape": {
        "columns": 6,
        "rows": 1
       }
      },
      "text/html": [
       "<div>\n",
       "<style scoped>\n",
       "    .dataframe tbody tr th:only-of-type {\n",
       "        vertical-align: middle;\n",
       "    }\n",
       "\n",
       "    .dataframe tbody tr th {\n",
       "        vertical-align: top;\n",
       "    }\n",
       "\n",
       "    .dataframe thead th {\n",
       "        text-align: right;\n",
       "    }\n",
       "</style>\n",
       "<table border=\"1\" class=\"dataframe\">\n",
       "  <thead>\n",
       "    <tr style=\"text-align: right;\">\n",
       "      <th></th>\n",
       "      <th>degree</th>\n",
       "      <th>R2</th>\n",
       "      <th>MSE</th>\n",
       "      <th>RMSE</th>\n",
       "      <th>MAE</th>\n",
       "      <th>MAPE</th>\n",
       "    </tr>\n",
       "  </thead>\n",
       "  <tbody>\n",
       "    <tr>\n",
       "      <th>0</th>\n",
       "      <td>2</td>\n",
       "      <td>0.090231</td>\n",
       "      <td>442.967385</td>\n",
       "      <td>21.04679</td>\n",
       "      <td>16.742214</td>\n",
       "      <td>8.308501</td>\n",
       "    </tr>\n",
       "  </tbody>\n",
       "</table>\n",
       "</div>"
      ],
      "text/plain": [
       "  degree        R2         MSE      RMSE        MAE      MAPE\n",
       "0      2  0.090231  442.967385  21.04679  16.742214  8.308501"
      ]
     },
     "execution_count": 9,
     "metadata": {},
     "output_type": "execute_result"
    }
   ],
   "source": [
    "#Training + Validation and testing \n",
    "resultados = []\n",
    "\n",
    "poly = pp.PolynomialFeatures(degree=2, include_bias=False)\n",
    "X_trainval = pd.concat([X_training, X_validation])\n",
    "y_trainval = pd.concat([y_training, y_validation])\n",
    "\n",
    "# Fit transformer on train+val, transform both train+val and test\n",
    "X_poly_trainval = poly.fit_transform(X_trainval)\n",
    "X_poly_test = poly.transform(X_test)\n",
    "\n",
    "model = lm.Ridge(alpha=1, max_iter=1000)\n",
    "model.fit(X_poly_trainval, y_trainval)\n",
    "y_pred_test = model.predict(X_poly_test)\n",
    "# Calcula a acurácia (ou outra métrica que desejar)\n",
    "R2 = mt.r2_score(y_test, y_pred_test)\n",
    "MSE = mt.mean_squared_error(y_test, y_pred_test)\n",
    "RMSE = mt.root_mean_squared_error(y_test, y_pred_test)\n",
    "MAE = mt.mean_absolute_error(y_test, y_pred_test)        \n",
    "MAPE = mt.mean_absolute_percentage_error(y_test, y_pred_test)\n",
    "resultados.append({\n",
    "    'degree': \"2\",\n",
    "    'R2': R2,\n",
    "    'MSE': MSE,\n",
    "    'RMSE': RMSE,\n",
    "    'MAE': MAE,\n",
    "    'MAPE': MAPE\n",
    "})\n",
    "\n",
    "# Exibe os resultados em um DataFrame\n",
    "pd.DataFrame(resultados)"
   ]
  }
 ],
 "metadata": {
  "kernelspec": {
   "display_name": "bacon",
   "language": "python",
   "name": "python3"
  },
  "language_info": {
   "codemirror_mode": {
    "name": "ipython",
    "version": 3
   },
   "file_extension": ".py",
   "mimetype": "text/x-python",
   "name": "python",
   "nbconvert_exporter": "python",
   "pygments_lexer": "ipython3",
   "version": "3.12.11"
  }
 },
 "nbformat": 4,
 "nbformat_minor": 5
}
