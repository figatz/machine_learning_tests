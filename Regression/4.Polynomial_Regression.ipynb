{
 "cells": [
  {
   "cell_type": "code",
   "execution_count": 2,
   "id": "f361b071",
   "metadata": {},
   "outputs": [],
   "source": [
    "# Imports \n",
    "import numpy                        as np \n",
    "import pandas                       as pd\n",
    "from matplotlib import pyplot       as plt \n",
    "from sklearn import preprocessing   as pp \n",
    "from sklearn import linear_model    as lm \n",
    "from sklearn import metrics         as mt"
   ]
  },
  {
   "cell_type": "code",
   "execution_count": 3,
   "id": "1673013c",
   "metadata": {},
   "outputs": [],
   "source": [
    "X_training = pd.read_csv (r\"C:\\Users\\muzio\\OneDrive\\Documentos\\repos\\machine_learning\\Regression\\X_training.csv\")\n",
    "y_training = pd.read_csv (r\"C:\\Users\\muzio\\OneDrive\\Documentos\\repos\\machine_learning\\Regression\\y_training.csv\")\n",
    "\n",
    "X_validation = pd.read_csv (r\"C:\\Users\\muzio\\OneDrive\\Documentos\\repos\\machine_learning\\Regression\\X_validation.csv\")\n",
    "y_validation = pd.read_csv (r\"C:\\Users\\muzio\\OneDrive\\Documentos\\repos\\machine_learning\\Regression\\y_validation.csv\")\n",
    "\n",
    "X_test = pd.read_csv (r\"C:\\Users\\muzio\\OneDrive\\Documentos\\repos\\machine_learning\\Regression\\X_test.csv\")\n",
    "y_test = pd.read_csv (r\"C:\\Users\\muzio\\OneDrive\\Documentos\\repos\\machine_learning\\Regression\\y_test.csv\")"
   ]
  },
  {
   "cell_type": "code",
   "execution_count": 8,
   "id": "3ef04118",
   "metadata": {},
   "outputs": [
    {
     "data": {
      "application/vnd.microsoft.datawrangler.viewer.v0+json": {
       "columns": [
        {
         "name": "index",
         "rawType": "int64",
         "type": "integer"
        },
        {
         "name": "degree",
         "rawType": "int64",
         "type": "integer"
        },
        {
         "name": "R2",
         "rawType": "float64",
         "type": "float"
        },
        {
         "name": "MSE",
         "rawType": "float64",
         "type": "float"
        },
        {
         "name": "RMSE",
         "rawType": "float64",
         "type": "float"
        },
        {
         "name": "MAE",
         "rawType": "float64",
         "type": "float"
        },
        {
         "name": "MAPE",
         "rawType": "float64",
         "type": "float"
        }
       ],
       "ref": "f56309a7-35e4-43b9-84ae-5ac499c72f00",
       "rows": [
        [
         "0",
         "2",
         "0.09419491057528084",
         "432.9862096386579",
         "20.80832068280999",
         "16.458031755824436",
         "8.350539820928132"
        ],
        [
         "1",
         "3",
         "0.154417721408185",
         "404.1989496632411",
         "20.10469969094891",
         "15.883591754209698",
         "7.800181445552631"
        ],
        [
         "2",
         "4",
         "0.33395665235554695",
         "318.37708566505285",
         "17.84312432465382",
         "13.614247228317527",
         "5.913391449282943"
        ],
        [
         "3",
         "5",
         "0.7237100351201161",
         "132.0700734089673",
         "11.492174442157031",
         "7.301144443023195",
         "2.240746496112321"
        ],
        [
         "4",
         "6",
         "0.9846646761006322",
         "7.3304774352564515",
         "2.7074854450682557",
         "0.5854516943772946",
         "0.12992378217061587"
        ],
        [
         "5",
         "7",
         "0.9027667775226117",
         "46.47870159150355",
         "6.8175289945480655",
         "3.1322175013172697",
         "0.7997444867666281"
        ]
       ],
       "shape": {
        "columns": 6,
        "rows": 6
       }
      },
      "text/html": [
       "<div>\n",
       "<style scoped>\n",
       "    .dataframe tbody tr th:only-of-type {\n",
       "        vertical-align: middle;\n",
       "    }\n",
       "\n",
       "    .dataframe tbody tr th {\n",
       "        vertical-align: top;\n",
       "    }\n",
       "\n",
       "    .dataframe thead th {\n",
       "        text-align: right;\n",
       "    }\n",
       "</style>\n",
       "<table border=\"1\" class=\"dataframe\">\n",
       "  <thead>\n",
       "    <tr style=\"text-align: right;\">\n",
       "      <th></th>\n",
       "      <th>degree</th>\n",
       "      <th>R2</th>\n",
       "      <th>MSE</th>\n",
       "      <th>RMSE</th>\n",
       "      <th>MAE</th>\n",
       "      <th>MAPE</th>\n",
       "    </tr>\n",
       "  </thead>\n",
       "  <tbody>\n",
       "    <tr>\n",
       "      <th>0</th>\n",
       "      <td>2</td>\n",
       "      <td>0.094195</td>\n",
       "      <td>432.986210</td>\n",
       "      <td>20.808321</td>\n",
       "      <td>16.458032</td>\n",
       "      <td>8.350540</td>\n",
       "    </tr>\n",
       "    <tr>\n",
       "      <th>1</th>\n",
       "      <td>3</td>\n",
       "      <td>0.154418</td>\n",
       "      <td>404.198950</td>\n",
       "      <td>20.104700</td>\n",
       "      <td>15.883592</td>\n",
       "      <td>7.800181</td>\n",
       "    </tr>\n",
       "    <tr>\n",
       "      <th>2</th>\n",
       "      <td>4</td>\n",
       "      <td>0.333957</td>\n",
       "      <td>318.377086</td>\n",
       "      <td>17.843124</td>\n",
       "      <td>13.614247</td>\n",
       "      <td>5.913391</td>\n",
       "    </tr>\n",
       "    <tr>\n",
       "      <th>3</th>\n",
       "      <td>5</td>\n",
       "      <td>0.723710</td>\n",
       "      <td>132.070073</td>\n",
       "      <td>11.492174</td>\n",
       "      <td>7.301144</td>\n",
       "      <td>2.240746</td>\n",
       "    </tr>\n",
       "    <tr>\n",
       "      <th>4</th>\n",
       "      <td>6</td>\n",
       "      <td>0.984665</td>\n",
       "      <td>7.330477</td>\n",
       "      <td>2.707485</td>\n",
       "      <td>0.585452</td>\n",
       "      <td>0.129924</td>\n",
       "    </tr>\n",
       "    <tr>\n",
       "      <th>5</th>\n",
       "      <td>7</td>\n",
       "      <td>0.902767</td>\n",
       "      <td>46.478702</td>\n",
       "      <td>6.817529</td>\n",
       "      <td>3.132218</td>\n",
       "      <td>0.799744</td>\n",
       "    </tr>\n",
       "  </tbody>\n",
       "</table>\n",
       "</div>"
      ],
      "text/plain": [
       "   degree        R2         MSE       RMSE        MAE      MAPE\n",
       "0       2  0.094195  432.986210  20.808321  16.458032  8.350540\n",
       "1       3  0.154418  404.198950  20.104700  15.883592  7.800181\n",
       "2       4  0.333957  318.377086  17.843124  13.614247  5.913391\n",
       "3       5  0.723710  132.070073  11.492174   7.301144  2.240746\n",
       "4       6  0.984665    7.330477   2.707485   0.585452  0.129924\n",
       "5       7  0.902767   46.478702   6.817529   3.132218  0.799744"
      ]
     },
     "execution_count": 8,
     "metadata": {},
     "output_type": "execute_result"
    }
   ],
   "source": [
    "# Training\n",
    "resultados = []\n",
    "\n",
    "for n in range (2, 8):\n",
    "    poly = pp.PolynomialFeatures(degree=n, include_bias=False)\n",
    "    X_poly = poly.fit_transform(X_training)\n",
    "    #Traning\n",
    "    model = lm.LinearRegression()\n",
    "    model.fit(X_poly, y_training)\n",
    "    # Predict\n",
    "    y_pred = model.predict(X_poly)\n",
    "\n",
    "    # Calcula a acurácia (ou outra métrica que desejar)\n",
    "    R2 = mt.r2_score(y_training, y_pred)\n",
    "    MSE = mt.mean_squared_error(y_training, y_pred)\n",
    "    RMSE = mt.root_mean_squared_error(y_training, y_pred)\n",
    "    MAE = mt.mean_absolute_error(y_training, y_pred)        \n",
    "    MAPE = mt.mean_absolute_percentage_error(y_training, y_pred)\n",
    "    resultados.append({\n",
    "        'degree': n,\n",
    "        'R2': R2,\n",
    "        'MSE': MSE,\n",
    "        'RMSE': RMSE,\n",
    "        'MAE': MAE,\n",
    "        'MAPE': MAPE\n",
    "    })\n",
    "\n",
    "# Exibe os resultados em um DataFrame\n",
    "pd.DataFrame(resultados)"
   ]
  },
  {
   "cell_type": "code",
   "execution_count": null,
   "id": "d8541e0a",
   "metadata": {},
   "outputs": [
    {
     "data": {
      "application/vnd.microsoft.datawrangler.viewer.v0+json": {
       "columns": [
        {
         "name": "index",
         "rawType": "int64",
         "type": "integer"
        },
        {
         "name": "degree",
         "rawType": "object",
         "type": "string"
        },
        {
         "name": "R2",
         "rawType": "float64",
         "type": "float"
        },
        {
         "name": "MSE",
         "rawType": "float64",
         "type": "float"
        },
        {
         "name": "RMSE",
         "rawType": "float64",
         "type": "float"
        },
        {
         "name": "MAE",
         "rawType": "float64",
         "type": "float"
        },
        {
         "name": "MAPE",
         "rawType": "float64",
         "type": "float"
        }
       ],
       "ref": "bc2c7de2-885c-4e46-a462-a4f20c9a8874",
       "rows": [
        [
         "0",
         "6",
         "0.06647668389711592",
         "445.76822347127575",
         "21.113223900467588",
         "16.74993909048403",
         "8.547931034605389"
        ]
       ],
       "shape": {
        "columns": 6,
        "rows": 1
       }
      },
      "text/html": [
       "<div>\n",
       "<style scoped>\n",
       "    .dataframe tbody tr th:only-of-type {\n",
       "        vertical-align: middle;\n",
       "    }\n",
       "\n",
       "    .dataframe tbody tr th {\n",
       "        vertical-align: top;\n",
       "    }\n",
       "\n",
       "    .dataframe thead th {\n",
       "        text-align: right;\n",
       "    }\n",
       "</style>\n",
       "<table border=\"1\" class=\"dataframe\">\n",
       "  <thead>\n",
       "    <tr style=\"text-align: right;\">\n",
       "      <th></th>\n",
       "      <th>degree</th>\n",
       "      <th>R2</th>\n",
       "      <th>MSE</th>\n",
       "      <th>RMSE</th>\n",
       "      <th>MAE</th>\n",
       "      <th>MAPE</th>\n",
       "    </tr>\n",
       "  </thead>\n",
       "  <tbody>\n",
       "    <tr>\n",
       "      <th>0</th>\n",
       "      <td>6</td>\n",
       "      <td>0.066477</td>\n",
       "      <td>445.768223</td>\n",
       "      <td>21.113224</td>\n",
       "      <td>16.749939</td>\n",
       "      <td>8.547931</td>\n",
       "    </tr>\n",
       "  </tbody>\n",
       "</table>\n",
       "</div>"
      ],
      "text/plain": [
       "  degree        R2         MSE       RMSE        MAE      MAPE\n",
       "0      6  0.066477  445.768223  21.113224  16.749939  8.547931"
      ]
     },
     "execution_count": 15,
     "metadata": {},
     "output_type": "execute_result"
    }
   ],
   "source": [
    "#Valeidation\n",
    "resultados = []\n",
    "\n",
    "poly = pp.PolynomialFeatures(degree=2, include_bias=False)\n",
    "X_poly_training = poly.fit_transform(X_training)\n",
    "X_poly_val = poly.transform(X_validation)\n",
    "#Traning\n",
    "model = lm.LinearRegression()\n",
    "model.fit(X_poly_training, y_training)\n",
    "# Predict\n",
    "y_pred = model.predict(X_poly_val)\n",
    "# Calcula a acurácia (ou outra métrica que desejar)\n",
    "R2 = mt.r2_score(y_validation, y_pred)\n",
    "MSE = mt.mean_squared_error(y_validation, y_pred)\n",
    "RMSE = mt.root_mean_squared_error(y_validation, y_pred)\n",
    "MAE = mt.mean_absolute_error(y_validation, y_pred)        \n",
    "MAPE = mt.mean_absolute_percentage_error(y_validation, y_pred)\n",
    "resultados.append({\n",
    "    'degree': \"2\",\n",
    "    'R2': R2,\n",
    "    'MSE': MSE,\n",
    "    'RMSE': RMSE,\n",
    "    'MAE': MAE,\n",
    "    'MAPE': MAPE\n",
    "})\n",
    "\n",
    "# Exibe os resultados em um DataFrame\n",
    "pd.DataFrame(resultados)"
   ]
  },
  {
   "cell_type": "code",
   "execution_count": 16,
   "id": "5f9172ea",
   "metadata": {},
   "outputs": [
    {
     "data": {
      "application/vnd.microsoft.datawrangler.viewer.v0+json": {
       "columns": [
        {
         "name": "index",
         "rawType": "int64",
         "type": "integer"
        },
        {
         "name": "degree",
         "rawType": "object",
         "type": "string"
        },
        {
         "name": "R2",
         "rawType": "float64",
         "type": "float"
        },
        {
         "name": "MSE",
         "rawType": "float64",
         "type": "float"
        },
        {
         "name": "RMSE",
         "rawType": "float64",
         "type": "float"
        },
        {
         "name": "MAE",
         "rawType": "float64",
         "type": "float"
        },
        {
         "name": "MAPE",
         "rawType": "float64",
         "type": "float"
        }
       ],
       "ref": "0dcf07fb-c3fc-487f-bfc2-e19abd470d6a",
       "rows": [
        [
         "0",
         "2",
         "0.09090059850602472",
         "442.6413857657963",
         "21.03904431683617",
         "16.736414061350004",
         "8.276971685015491"
        ]
       ],
       "shape": {
        "columns": 6,
        "rows": 1
       }
      },
      "text/html": [
       "<div>\n",
       "<style scoped>\n",
       "    .dataframe tbody tr th:only-of-type {\n",
       "        vertical-align: middle;\n",
       "    }\n",
       "\n",
       "    .dataframe tbody tr th {\n",
       "        vertical-align: top;\n",
       "    }\n",
       "\n",
       "    .dataframe thead th {\n",
       "        text-align: right;\n",
       "    }\n",
       "</style>\n",
       "<table border=\"1\" class=\"dataframe\">\n",
       "  <thead>\n",
       "    <tr style=\"text-align: right;\">\n",
       "      <th></th>\n",
       "      <th>degree</th>\n",
       "      <th>R2</th>\n",
       "      <th>MSE</th>\n",
       "      <th>RMSE</th>\n",
       "      <th>MAE</th>\n",
       "      <th>MAPE</th>\n",
       "    </tr>\n",
       "  </thead>\n",
       "  <tbody>\n",
       "    <tr>\n",
       "      <th>0</th>\n",
       "      <td>2</td>\n",
       "      <td>0.090901</td>\n",
       "      <td>442.641386</td>\n",
       "      <td>21.039044</td>\n",
       "      <td>16.736414</td>\n",
       "      <td>8.276972</td>\n",
       "    </tr>\n",
       "  </tbody>\n",
       "</table>\n",
       "</div>"
      ],
      "text/plain": [
       "  degree        R2         MSE       RMSE        MAE      MAPE\n",
       "0      2  0.090901  442.641386  21.039044  16.736414  8.276972"
      ]
     },
     "execution_count": 16,
     "metadata": {},
     "output_type": "execute_result"
    }
   ],
   "source": [
    "#Training + Validation and testing \n",
    "resultados = []\n",
    "\n",
    "poly = pp.PolynomialFeatures(degree=2, include_bias=False)\n",
    "X_trainval = pd.concat([X_training, X_validation])\n",
    "y_trainval = pd.concat([y_training, y_validation])\n",
    "\n",
    "# Fit transformer on train+val, transform both train+val and test\n",
    "X_poly_trainval = poly.fit_transform(X_trainval)\n",
    "X_poly_test = poly.transform(X_test)\n",
    "\n",
    "model = lm.LinearRegression()\n",
    "model.fit(X_poly_trainval, y_trainval)\n",
    "y_pred_test = model.predict(X_poly_test)\n",
    "# Calcula a acurácia (ou outra métrica que desejar)\n",
    "R2 = mt.r2_score(y_test, y_pred_test)\n",
    "MSE = mt.mean_squared_error(y_test, y_pred_test)\n",
    "RMSE = mt.root_mean_squared_error(y_test, y_pred_test)\n",
    "MAE = mt.mean_absolute_error(y_test, y_pred_test)        \n",
    "MAPE = mt.mean_absolute_percentage_error(y_test, y_pred_test)\n",
    "resultados.append({\n",
    "    'degree': \"2\",\n",
    "    'R2': R2,\n",
    "    'MSE': MSE,\n",
    "    'RMSE': RMSE,\n",
    "    'MAE': MAE,\n",
    "    'MAPE': MAPE\n",
    "})\n",
    "\n",
    "# Exibe os resultados em um DataFrame\n",
    "pd.DataFrame(resultados)"
   ]
  }
 ],
 "metadata": {
  "kernelspec": {
   "display_name": "bacon",
   "language": "python",
   "name": "python3"
  },
  "language_info": {
   "codemirror_mode": {
    "name": "ipython",
    "version": 3
   },
   "file_extension": ".py",
   "mimetype": "text/x-python",
   "name": "python",
   "nbconvert_exporter": "python",
   "pygments_lexer": "ipython3",
   "version": "3.12.11"
  }
 },
 "nbformat": 4,
 "nbformat_minor": 5
}
