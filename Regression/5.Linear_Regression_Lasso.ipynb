{
 "cells": [
  {
   "cell_type": "code",
   "execution_count": 1,
   "id": "c6c267a1",
   "metadata": {},
   "outputs": [],
   "source": [
    "import numpy as np\n",
    "import pandas as pd\n",
    "from sklearn import linear_model as lm\n",
    "from sklearn import metrics as mt"
   ]
  },
  {
   "cell_type": "code",
   "execution_count": 2,
   "id": "54e7807f",
   "metadata": {},
   "outputs": [],
   "source": [
    "X_training = pd.read_csv (r\"C:\\Users\\muzio\\OneDrive\\Documentos\\repos\\machine_learning\\Regression\\X_training.csv\")\n",
    "y_training = pd.read_csv (r\"C:\\Users\\muzio\\OneDrive\\Documentos\\repos\\machine_learning\\Regression\\y_training.csv\")\n",
    "\n",
    "X_validation = pd.read_csv (r\"C:\\Users\\muzio\\OneDrive\\Documentos\\repos\\machine_learning\\Regression\\X_validation.csv\")\n",
    "y_validation = pd.read_csv (r\"C:\\Users\\muzio\\OneDrive\\Documentos\\repos\\machine_learning\\Regression\\y_validation.csv\")\n",
    "\n",
    "X_test = pd.read_csv (r\"C:\\Users\\muzio\\OneDrive\\Documentos\\repos\\machine_learning\\Regression\\X_test.csv\")\n",
    "y_test = pd.read_csv (r\"C:\\Users\\muzio\\OneDrive\\Documentos\\repos\\machine_learning\\Regression\\y_test.csv\")"
   ]
  },
  {
   "cell_type": "code",
   "execution_count": 9,
   "id": "dd2d1459",
   "metadata": {},
   "outputs": [
    {
     "data": {
      "application/vnd.microsoft.datawrangler.viewer.v0+json": {
       "columns": [
        {
         "name": "index",
         "rawType": "int64",
         "type": "integer"
        },
        {
         "name": "alpha",
         "rawType": "int64",
         "type": "integer"
        },
        {
         "name": "R2",
         "rawType": "float64",
         "type": "float"
        },
        {
         "name": "MSE",
         "rawType": "float64",
         "type": "float"
        },
        {
         "name": "RMSE",
         "rawType": "float64",
         "type": "float"
        },
        {
         "name": "MAE",
         "rawType": "float64",
         "type": "float"
        },
        {
         "name": "MAPE",
         "rawType": "float64",
         "type": "float"
        }
       ],
       "ref": "42445b12-544d-4e4c-812f-75616167e042",
       "rows": [
        [
         "0",
         "1",
         "0.007400905609184494",
         "474.4748341434027",
         "21.782443254681112",
         "17.305483795260546",
         "8.736697313910927"
        ],
        [
         "1",
         "2",
         "0.0011249198900505908",
         "477.4748341434027",
         "21.85119754483499",
         "17.355394644672483",
         "8.741522478804352"
        ],
        [
         "2",
         "3",
         "0.0",
         "478.012559979818",
         "21.863498347241183",
         "17.3650904457618",
         "8.742212844953098"
        ],
        [
         "3",
         "4",
         "0.0",
         "478.012559979818",
         "21.863498347241183",
         "17.3650904457618",
         "8.742212844953098"
        ],
        [
         "4",
         "5",
         "0.0",
         "478.012559979818",
         "21.863498347241183",
         "17.3650904457618",
         "8.742212844953098"
        ],
        [
         "5",
         "6",
         "0.0",
         "478.012559979818",
         "21.863498347241183",
         "17.3650904457618",
         "8.742212844953098"
        ],
        [
         "6",
         "7",
         "0.0",
         "478.012559979818",
         "21.863498347241183",
         "17.3650904457618",
         "8.742212844953098"
        ],
        [
         "7",
         "8",
         "0.0",
         "478.012559979818",
         "21.863498347241183",
         "17.3650904457618",
         "8.742212844953098"
        ],
        [
         "8",
         "9",
         "0.0",
         "478.012559979818",
         "21.863498347241183",
         "17.3650904457618",
         "8.742212844953098"
        ],
        [
         "9",
         "10",
         "0.0",
         "478.012559979818",
         "21.863498347241183",
         "17.3650904457618",
         "8.742212844953098"
        ],
        [
         "10",
         "11",
         "0.0",
         "478.012559979818",
         "21.863498347241183",
         "17.3650904457618",
         "8.742212844953098"
        ],
        [
         "11",
         "12",
         "0.0",
         "478.012559979818",
         "21.863498347241183",
         "17.3650904457618",
         "8.742212844953098"
        ],
        [
         "12",
         "13",
         "0.0",
         "478.012559979818",
         "21.863498347241183",
         "17.3650904457618",
         "8.742212844953098"
        ],
        [
         "13",
         "14",
         "0.0",
         "478.012559979818",
         "21.863498347241183",
         "17.3650904457618",
         "8.742212844953098"
        ],
        [
         "14",
         "15",
         "0.0",
         "478.012559979818",
         "21.863498347241183",
         "17.3650904457618",
         "8.742212844953098"
        ],
        [
         "15",
         "16",
         "0.0",
         "478.012559979818",
         "21.863498347241183",
         "17.3650904457618",
         "8.742212844953098"
        ],
        [
         "16",
         "17",
         "0.0",
         "478.012559979818",
         "21.863498347241183",
         "17.3650904457618",
         "8.742212844953098"
        ],
        [
         "17",
         "18",
         "0.0",
         "478.012559979818",
         "21.863498347241183",
         "17.3650904457618",
         "8.742212844953098"
        ],
        [
         "18",
         "19",
         "0.0",
         "478.012559979818",
         "21.863498347241183",
         "17.3650904457618",
         "8.742212844953098"
        ]
       ],
       "shape": {
        "columns": 6,
        "rows": 19
       }
      },
      "text/html": [
       "<div>\n",
       "<style scoped>\n",
       "    .dataframe tbody tr th:only-of-type {\n",
       "        vertical-align: middle;\n",
       "    }\n",
       "\n",
       "    .dataframe tbody tr th {\n",
       "        vertical-align: top;\n",
       "    }\n",
       "\n",
       "    .dataframe thead th {\n",
       "        text-align: right;\n",
       "    }\n",
       "</style>\n",
       "<table border=\"1\" class=\"dataframe\">\n",
       "  <thead>\n",
       "    <tr style=\"text-align: right;\">\n",
       "      <th></th>\n",
       "      <th>alpha</th>\n",
       "      <th>R2</th>\n",
       "      <th>MSE</th>\n",
       "      <th>RMSE</th>\n",
       "      <th>MAE</th>\n",
       "      <th>MAPE</th>\n",
       "    </tr>\n",
       "  </thead>\n",
       "  <tbody>\n",
       "    <tr>\n",
       "      <th>0</th>\n",
       "      <td>1</td>\n",
       "      <td>0.007401</td>\n",
       "      <td>474.474834</td>\n",
       "      <td>21.782443</td>\n",
       "      <td>17.305484</td>\n",
       "      <td>8.736697</td>\n",
       "    </tr>\n",
       "    <tr>\n",
       "      <th>1</th>\n",
       "      <td>2</td>\n",
       "      <td>0.001125</td>\n",
       "      <td>477.474834</td>\n",
       "      <td>21.851198</td>\n",
       "      <td>17.355395</td>\n",
       "      <td>8.741522</td>\n",
       "    </tr>\n",
       "    <tr>\n",
       "      <th>2</th>\n",
       "      <td>3</td>\n",
       "      <td>0.000000</td>\n",
       "      <td>478.012560</td>\n",
       "      <td>21.863498</td>\n",
       "      <td>17.365090</td>\n",
       "      <td>8.742213</td>\n",
       "    </tr>\n",
       "    <tr>\n",
       "      <th>3</th>\n",
       "      <td>4</td>\n",
       "      <td>0.000000</td>\n",
       "      <td>478.012560</td>\n",
       "      <td>21.863498</td>\n",
       "      <td>17.365090</td>\n",
       "      <td>8.742213</td>\n",
       "    </tr>\n",
       "    <tr>\n",
       "      <th>4</th>\n",
       "      <td>5</td>\n",
       "      <td>0.000000</td>\n",
       "      <td>478.012560</td>\n",
       "      <td>21.863498</td>\n",
       "      <td>17.365090</td>\n",
       "      <td>8.742213</td>\n",
       "    </tr>\n",
       "    <tr>\n",
       "      <th>5</th>\n",
       "      <td>6</td>\n",
       "      <td>0.000000</td>\n",
       "      <td>478.012560</td>\n",
       "      <td>21.863498</td>\n",
       "      <td>17.365090</td>\n",
       "      <td>8.742213</td>\n",
       "    </tr>\n",
       "    <tr>\n",
       "      <th>6</th>\n",
       "      <td>7</td>\n",
       "      <td>0.000000</td>\n",
       "      <td>478.012560</td>\n",
       "      <td>21.863498</td>\n",
       "      <td>17.365090</td>\n",
       "      <td>8.742213</td>\n",
       "    </tr>\n",
       "    <tr>\n",
       "      <th>7</th>\n",
       "      <td>8</td>\n",
       "      <td>0.000000</td>\n",
       "      <td>478.012560</td>\n",
       "      <td>21.863498</td>\n",
       "      <td>17.365090</td>\n",
       "      <td>8.742213</td>\n",
       "    </tr>\n",
       "    <tr>\n",
       "      <th>8</th>\n",
       "      <td>9</td>\n",
       "      <td>0.000000</td>\n",
       "      <td>478.012560</td>\n",
       "      <td>21.863498</td>\n",
       "      <td>17.365090</td>\n",
       "      <td>8.742213</td>\n",
       "    </tr>\n",
       "    <tr>\n",
       "      <th>9</th>\n",
       "      <td>10</td>\n",
       "      <td>0.000000</td>\n",
       "      <td>478.012560</td>\n",
       "      <td>21.863498</td>\n",
       "      <td>17.365090</td>\n",
       "      <td>8.742213</td>\n",
       "    </tr>\n",
       "    <tr>\n",
       "      <th>10</th>\n",
       "      <td>11</td>\n",
       "      <td>0.000000</td>\n",
       "      <td>478.012560</td>\n",
       "      <td>21.863498</td>\n",
       "      <td>17.365090</td>\n",
       "      <td>8.742213</td>\n",
       "    </tr>\n",
       "    <tr>\n",
       "      <th>11</th>\n",
       "      <td>12</td>\n",
       "      <td>0.000000</td>\n",
       "      <td>478.012560</td>\n",
       "      <td>21.863498</td>\n",
       "      <td>17.365090</td>\n",
       "      <td>8.742213</td>\n",
       "    </tr>\n",
       "    <tr>\n",
       "      <th>12</th>\n",
       "      <td>13</td>\n",
       "      <td>0.000000</td>\n",
       "      <td>478.012560</td>\n",
       "      <td>21.863498</td>\n",
       "      <td>17.365090</td>\n",
       "      <td>8.742213</td>\n",
       "    </tr>\n",
       "    <tr>\n",
       "      <th>13</th>\n",
       "      <td>14</td>\n",
       "      <td>0.000000</td>\n",
       "      <td>478.012560</td>\n",
       "      <td>21.863498</td>\n",
       "      <td>17.365090</td>\n",
       "      <td>8.742213</td>\n",
       "    </tr>\n",
       "    <tr>\n",
       "      <th>14</th>\n",
       "      <td>15</td>\n",
       "      <td>0.000000</td>\n",
       "      <td>478.012560</td>\n",
       "      <td>21.863498</td>\n",
       "      <td>17.365090</td>\n",
       "      <td>8.742213</td>\n",
       "    </tr>\n",
       "    <tr>\n",
       "      <th>15</th>\n",
       "      <td>16</td>\n",
       "      <td>0.000000</td>\n",
       "      <td>478.012560</td>\n",
       "      <td>21.863498</td>\n",
       "      <td>17.365090</td>\n",
       "      <td>8.742213</td>\n",
       "    </tr>\n",
       "    <tr>\n",
       "      <th>16</th>\n",
       "      <td>17</td>\n",
       "      <td>0.000000</td>\n",
       "      <td>478.012560</td>\n",
       "      <td>21.863498</td>\n",
       "      <td>17.365090</td>\n",
       "      <td>8.742213</td>\n",
       "    </tr>\n",
       "    <tr>\n",
       "      <th>17</th>\n",
       "      <td>18</td>\n",
       "      <td>0.000000</td>\n",
       "      <td>478.012560</td>\n",
       "      <td>21.863498</td>\n",
       "      <td>17.365090</td>\n",
       "      <td>8.742213</td>\n",
       "    </tr>\n",
       "    <tr>\n",
       "      <th>18</th>\n",
       "      <td>19</td>\n",
       "      <td>0.000000</td>\n",
       "      <td>478.012560</td>\n",
       "      <td>21.863498</td>\n",
       "      <td>17.365090</td>\n",
       "      <td>8.742213</td>\n",
       "    </tr>\n",
       "  </tbody>\n",
       "</table>\n",
       "</div>"
      ],
      "text/plain": [
       "    alpha        R2         MSE       RMSE        MAE      MAPE\n",
       "0       1  0.007401  474.474834  21.782443  17.305484  8.736697\n",
       "1       2  0.001125  477.474834  21.851198  17.355395  8.741522\n",
       "2       3  0.000000  478.012560  21.863498  17.365090  8.742213\n",
       "3       4  0.000000  478.012560  21.863498  17.365090  8.742213\n",
       "4       5  0.000000  478.012560  21.863498  17.365090  8.742213\n",
       "5       6  0.000000  478.012560  21.863498  17.365090  8.742213\n",
       "6       7  0.000000  478.012560  21.863498  17.365090  8.742213\n",
       "7       8  0.000000  478.012560  21.863498  17.365090  8.742213\n",
       "8       9  0.000000  478.012560  21.863498  17.365090  8.742213\n",
       "9      10  0.000000  478.012560  21.863498  17.365090  8.742213\n",
       "10     11  0.000000  478.012560  21.863498  17.365090  8.742213\n",
       "11     12  0.000000  478.012560  21.863498  17.365090  8.742213\n",
       "12     13  0.000000  478.012560  21.863498  17.365090  8.742213\n",
       "13     14  0.000000  478.012560  21.863498  17.365090  8.742213\n",
       "14     15  0.000000  478.012560  21.863498  17.365090  8.742213\n",
       "15     16  0.000000  478.012560  21.863498  17.365090  8.742213\n",
       "16     17  0.000000  478.012560  21.863498  17.365090  8.742213\n",
       "17     18  0.000000  478.012560  21.863498  17.365090  8.742213\n",
       "18     19  0.000000  478.012560  21.863498  17.365090  8.742213"
      ]
     },
     "execution_count": 9,
     "metadata": {},
     "output_type": "execute_result"
    }
   ],
   "source": [
    "resultados = []\n",
    "\n",
    "for n in range (1,20):\n",
    "    lasso = lm.Lasso(alpha=n, max_iter=10000)\n",
    "    lasso.fit(X_training, y_training)\n",
    "    y_pred = lasso.predict(X_training)\n",
    "\n",
    "    \n",
    "    # Calcula a acurácia (ou outra métrica que desejar)\n",
    "    R2 = mt.r2_score(y_training, y_pred)\n",
    "    MSE = mt.mean_squared_error(y_training, y_pred)\n",
    "    RMSE = mt.root_mean_squared_error(y_training, y_pred)\n",
    "    MAE = mt.mean_absolute_error(y_training, y_pred)        \n",
    "    MAPE = mt.mean_absolute_percentage_error(y_training, y_pred)\n",
    "\n",
    "    resultados.append({\n",
    "        'alpha': n,\n",
    "        'R2': R2,\n",
    "        'MSE': MSE,\n",
    "        'RMSE': RMSE,\n",
    "        'MAE': MAE,\n",
    "        'MAPE': MAPE\n",
    "    })\n",
    "# Exibe os resultados em um DataFrame\n",
    "pd.DataFrame(resultados)"
   ]
  },
  {
   "cell_type": "code",
   "execution_count": 10,
   "id": "11584970",
   "metadata": {},
   "outputs": [
    {
     "data": {
      "application/vnd.microsoft.datawrangler.viewer.v0+json": {
       "columns": [
        {
         "name": "index",
         "rawType": "int64",
         "type": "integer"
        },
        {
         "name": "alpha",
         "rawType": "object",
         "type": "string"
        },
        {
         "name": "R2",
         "rawType": "float64",
         "type": "float"
        },
        {
         "name": "MSE",
         "rawType": "float64",
         "type": "float"
        },
        {
         "name": "RMSE",
         "rawType": "float64",
         "type": "float"
        },
        {
         "name": "MAE",
         "rawType": "float64",
         "type": "float"
        },
        {
         "name": "MAPE",
         "rawType": "float64",
         "type": "float"
        }
       ],
       "ref": "f2175dc3-ad41-4d87-9c55-e66b019dd432",
       "rows": [
        [
         "0",
         "1",
         "0.007883642924698453",
         "473.7470809154487",
         "21.76573180289256",
         "17.26492176467576",
         "8.695808367641687"
        ]
       ],
       "shape": {
        "columns": 6,
        "rows": 1
       }
      },
      "text/html": [
       "<div>\n",
       "<style scoped>\n",
       "    .dataframe tbody tr th:only-of-type {\n",
       "        vertical-align: middle;\n",
       "    }\n",
       "\n",
       "    .dataframe tbody tr th {\n",
       "        vertical-align: top;\n",
       "    }\n",
       "\n",
       "    .dataframe thead th {\n",
       "        text-align: right;\n",
       "    }\n",
       "</style>\n",
       "<table border=\"1\" class=\"dataframe\">\n",
       "  <thead>\n",
       "    <tr style=\"text-align: right;\">\n",
       "      <th></th>\n",
       "      <th>alpha</th>\n",
       "      <th>R2</th>\n",
       "      <th>MSE</th>\n",
       "      <th>RMSE</th>\n",
       "      <th>MAE</th>\n",
       "      <th>MAPE</th>\n",
       "    </tr>\n",
       "  </thead>\n",
       "  <tbody>\n",
       "    <tr>\n",
       "      <th>0</th>\n",
       "      <td>1</td>\n",
       "      <td>0.007884</td>\n",
       "      <td>473.747081</td>\n",
       "      <td>21.765732</td>\n",
       "      <td>17.264922</td>\n",
       "      <td>8.695808</td>\n",
       "    </tr>\n",
       "  </tbody>\n",
       "</table>\n",
       "</div>"
      ],
      "text/plain": [
       "  alpha        R2         MSE       RMSE        MAE      MAPE\n",
       "0     1  0.007884  473.747081  21.765732  17.264922  8.695808"
      ]
     },
     "execution_count": 10,
     "metadata": {},
     "output_type": "execute_result"
    }
   ],
   "source": [
    "resultados = []\n",
    "\n",
    "lasso = lm.Lasso(alpha=1, max_iter=10000)\n",
    "lasso.fit(X_training, y_training)\n",
    "y_pred = lasso.predict(X_validation)\n",
    "\n",
    "# Calcula a acurácia (ou outra métrica que desejar)\n",
    "R2 = mt.r2_score(y_validation, y_pred)\n",
    "MSE = mt.mean_squared_error(y_validation, y_pred)\n",
    "RMSE = mt.root_mean_squared_error(y_validation, y_pred)\n",
    "MAE = mt.mean_absolute_error(y_validation, y_pred)        \n",
    "MAPE = mt.mean_absolute_percentage_error(y_validation, y_pred)\n",
    "resultados.append({\n",
    "    'alpha': \"1\",\n",
    "    'R2': R2,\n",
    "    'MSE': MSE,\n",
    "    'RMSE': RMSE,\n",
    "    'MAE': MAE,\n",
    "    'MAPE': MAPE\n",
    "})\n",
    "# Exibe os resultados em um DataFrame\n",
    "pd.DataFrame(resultados)"
   ]
  },
  {
   "cell_type": "code",
   "execution_count": 12,
   "id": "fd221932",
   "metadata": {},
   "outputs": [
    {
     "data": {
      "application/vnd.microsoft.datawrangler.viewer.v0+json": {
       "columns": [
        {
         "name": "index",
         "rawType": "int64",
         "type": "integer"
        },
        {
         "name": "R2",
         "rawType": "float64",
         "type": "float"
        },
        {
         "name": "MSE",
         "rawType": "float64",
         "type": "float"
        },
        {
         "name": "RMSE",
         "rawType": "float64",
         "type": "float"
        },
        {
         "name": "MAE",
         "rawType": "float64",
         "type": "float"
        },
        {
         "name": "MAPE",
         "rawType": "float64",
         "type": "float"
        }
       ],
       "ref": "bbf0a973-bfae-44b1-9395-875685eb3b33",
       "rows": [
        [
         "0",
         "0.007813836681452746",
         "483.09641118147954",
         "21.979454296717186",
         "17.472410054642754",
         "8.752994861198776"
        ]
       ],
       "shape": {
        "columns": 5,
        "rows": 1
       }
      },
      "text/html": [
       "<div>\n",
       "<style scoped>\n",
       "    .dataframe tbody tr th:only-of-type {\n",
       "        vertical-align: middle;\n",
       "    }\n",
       "\n",
       "    .dataframe tbody tr th {\n",
       "        vertical-align: top;\n",
       "    }\n",
       "\n",
       "    .dataframe thead th {\n",
       "        text-align: right;\n",
       "    }\n",
       "</style>\n",
       "<table border=\"1\" class=\"dataframe\">\n",
       "  <thead>\n",
       "    <tr style=\"text-align: right;\">\n",
       "      <th></th>\n",
       "      <th>R2</th>\n",
       "      <th>MSE</th>\n",
       "      <th>RMSE</th>\n",
       "      <th>MAE</th>\n",
       "      <th>MAPE</th>\n",
       "    </tr>\n",
       "  </thead>\n",
       "  <tbody>\n",
       "    <tr>\n",
       "      <th>0</th>\n",
       "      <td>0.007814</td>\n",
       "      <td>483.096411</td>\n",
       "      <td>21.979454</td>\n",
       "      <td>17.47241</td>\n",
       "      <td>8.752995</td>\n",
       "    </tr>\n",
       "  </tbody>\n",
       "</table>\n",
       "</div>"
      ],
      "text/plain": [
       "         R2         MSE       RMSE       MAE      MAPE\n",
       "0  0.007814  483.096411  21.979454  17.47241  8.752995"
      ]
     },
     "execution_count": 12,
     "metadata": {},
     "output_type": "execute_result"
    }
   ],
   "source": [
    "lasso = lm.Lasso(alpha=1, max_iter=1000)\n",
    "#model fit (ajuste, treinamento)\n",
    "lasso.fit(pd.concat([X_training, X_validation]), pd.concat([y_training, y_validation]))\n",
    "#previsao\n",
    "y_pred_test = lasso.predict(X_test)\n",
    "\n",
    "\n",
    "resultados = []\n",
    "\n",
    "# Calcula a acurácia (ou outra métrica que desejar)\n",
    "R2 = mt.r2_score(y_test, y_pred_test)\n",
    "MSE = mt.mean_squared_error(y_test, y_pred_test)\n",
    "RMSE = mt.root_mean_squared_error(y_test, y_pred_test)\n",
    "MAE = mt.mean_absolute_error(y_test, y_pred_test)        \n",
    "MAPE = mt.mean_absolute_percentage_error(y_test, y_pred_test)\n",
    "\n",
    "resultados.append({\n",
    "    'R2': R2,\n",
    "    'MSE': MSE,\n",
    "    'RMSE': RMSE,\n",
    "    'MAE': MAE,\n",
    "    'MAPE': MAPE\n",
    "})\n",
    "# Exibe os resultados em um DataFrame\n",
    "pd.DataFrame(resultados)"
   ]
  }
 ],
 "metadata": {
  "kernelspec": {
   "display_name": "bacon",
   "language": "python",
   "name": "python3"
  },
  "language_info": {
   "codemirror_mode": {
    "name": "ipython",
    "version": 3
   },
   "file_extension": ".py",
   "mimetype": "text/x-python",
   "name": "python",
   "nbconvert_exporter": "python",
   "pygments_lexer": "ipython3",
   "version": "3.12.11"
  }
 },
 "nbformat": 4,
 "nbformat_minor": 5
}
