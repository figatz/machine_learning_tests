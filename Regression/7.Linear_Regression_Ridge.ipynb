{
 "cells": [
  {
   "cell_type": "code",
   "execution_count": 1,
   "id": "c6c267a1",
   "metadata": {},
   "outputs": [],
   "source": [
    "import numpy as np\n",
    "import pandas as pd\n",
    "from sklearn import linear_model as lm\n",
    "from sklearn import metrics as mt"
   ]
  },
  {
   "cell_type": "code",
   "execution_count": 2,
   "id": "54e7807f",
   "metadata": {},
   "outputs": [],
   "source": [
    "X_training = pd.read_csv (r\"C:\\Users\\muzio\\OneDrive\\Documentos\\repos\\machine_learning\\Regression\\X_training.csv\")\n",
    "y_training = pd.read_csv (r\"C:\\Users\\muzio\\OneDrive\\Documentos\\repos\\machine_learning\\Regression\\y_training.csv\")\n",
    "\n",
    "X_validation = pd.read_csv (r\"C:\\Users\\muzio\\OneDrive\\Documentos\\repos\\machine_learning\\Regression\\X_validation.csv\")\n",
    "y_validation = pd.read_csv (r\"C:\\Users\\muzio\\OneDrive\\Documentos\\repos\\machine_learning\\Regression\\y_validation.csv\")\n",
    "\n",
    "X_test = pd.read_csv (r\"C:\\Users\\muzio\\OneDrive\\Documentos\\repos\\machine_learning\\Regression\\X_test.csv\")\n",
    "y_test = pd.read_csv (r\"C:\\Users\\muzio\\OneDrive\\Documentos\\repos\\machine_learning\\Regression\\y_test.csv\")"
   ]
  },
  {
   "cell_type": "code",
   "execution_count": 11,
   "id": "dd2d1459",
   "metadata": {},
   "outputs": [
    {
     "data": {
      "application/vnd.microsoft.datawrangler.viewer.v0+json": {
       "columns": [
        {
         "name": "index",
         "rawType": "int64",
         "type": "integer"
        },
        {
         "name": "alpha",
         "rawType": "int64",
         "type": "integer"
        },
        {
         "name": "R2",
         "rawType": "float64",
         "type": "float"
        },
        {
         "name": "MSE",
         "rawType": "float64",
         "type": "float"
        },
        {
         "name": "RMSE",
         "rawType": "float64",
         "type": "float"
        },
        {
         "name": "MAE",
         "rawType": "float64",
         "type": "float"
        },
        {
         "name": "MAPE",
         "rawType": "float64",
         "type": "float"
        }
       ],
       "ref": "bbe7cc9a-6a25-4b8a-8cf8-71a58ffb9823",
       "rows": [
        [
         "0",
         "1",
         "0.0460577006355426",
         "455.99640059223816",
         "21.354072225040312",
         "16.9983076023201",
         "8.653414734181558"
        ],
        [
         "1",
         "2",
         "0.046055949199324986",
         "455.99723780074817",
         "21.35409182804898",
         "16.998366445644404",
         "8.653637747762021"
        ],
        [
         "2",
         "3",
         "0.04605313327960969",
         "455.99858384574",
         "21.354123345287203",
         "16.998440543417768",
         "8.653855531763995"
        ],
        [
         "3",
         "4",
         "0.046049325861013735",
         "456.00040383964995",
         "21.354165959822687",
         "16.998512737210483",
         "8.654067956392042"
        ],
        [
         "4",
         "5",
         "0.04604459152971019",
         "456.00266690947615",
         "21.354218948710724",
         "16.998596061744706",
         "8.654275460997082"
        ],
        [
         "5",
         "6",
         "0.04603898769562864",
         "456.0053456125512",
         "21.354281669317544",
         "16.998694945686683",
         "8.654478347171253"
        ],
        [
         "6",
         "7",
         "0.046032565612157406",
         "456.0084154491117",
         "21.354353547909422",
         "16.998801355744888",
         "8.654676679237895"
        ],
        [
         "7",
         "8",
         "0.04602537123043404",
         "456.0118544539367",
         "21.35443407009272",
         "16.998912345213892",
         "8.654870560764698"
        ],
        [
         "8",
         "9",
         "0.046017445917905575",
         "456.0156428528671",
         "21.354522772772683",
         "16.99902162876753",
         "8.655060040426836"
        ],
        [
         "9",
         "10",
         "0.04600882706503018",
         "456.0197627727942",
         "21.35461923736394",
         "16.999134783661347",
         "8.655245388309863"
        ],
        [
         "10",
         "11",
         "0.04599954859941191",
         "456.02419799589705",
         "21.354723084036866",
         "16.999247639473882",
         "8.655426675062708"
        ],
        [
         "11",
         "12",
         "0.0459896414230313",
         "456.0289337506409",
         "21.354833966824486",
         "16.999365162087052",
         "8.655604180934978"
        ],
        [
         "12",
         "13",
         "0.04597913378533236",
         "456.0339565334367",
         "21.35495156944723",
         "16.999491705608037",
         "8.655778108579064"
        ],
        [
         "13",
         "14",
         "0.04596805160262729",
         "456.0392539559617",
         "21.355075601738378",
         "16.999624953240378",
         "8.655948531658808"
        ],
        [
         "14",
         "15",
         "0.04595641873240508",
         "456.04481461403657",
         "21.355205796574207",
         "16.999760730873305",
         "8.656115502934277"
        ],
        [
         "15",
         "16",
         "0.045944257209633466",
         "456.05062797466985",
         "21.355341907229437",
         "16.999898625076696",
         "8.656279129852424"
        ],
        [
         "16",
         "17",
         "0.04593158745092729",
         "456.05668427846336",
         "21.355483705092315",
         "17.000035689608527",
         "8.656439467849987"
        ],
        [
         "17",
         "18",
         "0.04591842843145977",
         "456.06297445504583",
         "21.355630977684687",
         "17.000176596930906",
         "8.656596713051336"
        ],
        [
         "18",
         "19",
         "0.04590479783868606",
         "456.06949004959165",
         "21.355783526941632",
         "17.000317061896595",
         "8.656750890996745"
        ]
       ],
       "shape": {
        "columns": 6,
        "rows": 19
       }
      },
      "text/html": [
       "<div>\n",
       "<style scoped>\n",
       "    .dataframe tbody tr th:only-of-type {\n",
       "        vertical-align: middle;\n",
       "    }\n",
       "\n",
       "    .dataframe tbody tr th {\n",
       "        vertical-align: top;\n",
       "    }\n",
       "\n",
       "    .dataframe thead th {\n",
       "        text-align: right;\n",
       "    }\n",
       "</style>\n",
       "<table border=\"1\" class=\"dataframe\">\n",
       "  <thead>\n",
       "    <tr style=\"text-align: right;\">\n",
       "      <th></th>\n",
       "      <th>alpha</th>\n",
       "      <th>R2</th>\n",
       "      <th>MSE</th>\n",
       "      <th>RMSE</th>\n",
       "      <th>MAE</th>\n",
       "      <th>MAPE</th>\n",
       "    </tr>\n",
       "  </thead>\n",
       "  <tbody>\n",
       "    <tr>\n",
       "      <th>0</th>\n",
       "      <td>1</td>\n",
       "      <td>0.046058</td>\n",
       "      <td>455.996401</td>\n",
       "      <td>21.354072</td>\n",
       "      <td>16.998308</td>\n",
       "      <td>8.653415</td>\n",
       "    </tr>\n",
       "    <tr>\n",
       "      <th>1</th>\n",
       "      <td>2</td>\n",
       "      <td>0.046056</td>\n",
       "      <td>455.997238</td>\n",
       "      <td>21.354092</td>\n",
       "      <td>16.998366</td>\n",
       "      <td>8.653638</td>\n",
       "    </tr>\n",
       "    <tr>\n",
       "      <th>2</th>\n",
       "      <td>3</td>\n",
       "      <td>0.046053</td>\n",
       "      <td>455.998584</td>\n",
       "      <td>21.354123</td>\n",
       "      <td>16.998441</td>\n",
       "      <td>8.653856</td>\n",
       "    </tr>\n",
       "    <tr>\n",
       "      <th>3</th>\n",
       "      <td>4</td>\n",
       "      <td>0.046049</td>\n",
       "      <td>456.000404</td>\n",
       "      <td>21.354166</td>\n",
       "      <td>16.998513</td>\n",
       "      <td>8.654068</td>\n",
       "    </tr>\n",
       "    <tr>\n",
       "      <th>4</th>\n",
       "      <td>5</td>\n",
       "      <td>0.046045</td>\n",
       "      <td>456.002667</td>\n",
       "      <td>21.354219</td>\n",
       "      <td>16.998596</td>\n",
       "      <td>8.654275</td>\n",
       "    </tr>\n",
       "    <tr>\n",
       "      <th>5</th>\n",
       "      <td>6</td>\n",
       "      <td>0.046039</td>\n",
       "      <td>456.005346</td>\n",
       "      <td>21.354282</td>\n",
       "      <td>16.998695</td>\n",
       "      <td>8.654478</td>\n",
       "    </tr>\n",
       "    <tr>\n",
       "      <th>6</th>\n",
       "      <td>7</td>\n",
       "      <td>0.046033</td>\n",
       "      <td>456.008415</td>\n",
       "      <td>21.354354</td>\n",
       "      <td>16.998801</td>\n",
       "      <td>8.654677</td>\n",
       "    </tr>\n",
       "    <tr>\n",
       "      <th>7</th>\n",
       "      <td>8</td>\n",
       "      <td>0.046025</td>\n",
       "      <td>456.011854</td>\n",
       "      <td>21.354434</td>\n",
       "      <td>16.998912</td>\n",
       "      <td>8.654871</td>\n",
       "    </tr>\n",
       "    <tr>\n",
       "      <th>8</th>\n",
       "      <td>9</td>\n",
       "      <td>0.046017</td>\n",
       "      <td>456.015643</td>\n",
       "      <td>21.354523</td>\n",
       "      <td>16.999022</td>\n",
       "      <td>8.655060</td>\n",
       "    </tr>\n",
       "    <tr>\n",
       "      <th>9</th>\n",
       "      <td>10</td>\n",
       "      <td>0.046009</td>\n",
       "      <td>456.019763</td>\n",
       "      <td>21.354619</td>\n",
       "      <td>16.999135</td>\n",
       "      <td>8.655245</td>\n",
       "    </tr>\n",
       "    <tr>\n",
       "      <th>10</th>\n",
       "      <td>11</td>\n",
       "      <td>0.046000</td>\n",
       "      <td>456.024198</td>\n",
       "      <td>21.354723</td>\n",
       "      <td>16.999248</td>\n",
       "      <td>8.655427</td>\n",
       "    </tr>\n",
       "    <tr>\n",
       "      <th>11</th>\n",
       "      <td>12</td>\n",
       "      <td>0.045990</td>\n",
       "      <td>456.028934</td>\n",
       "      <td>21.354834</td>\n",
       "      <td>16.999365</td>\n",
       "      <td>8.655604</td>\n",
       "    </tr>\n",
       "    <tr>\n",
       "      <th>12</th>\n",
       "      <td>13</td>\n",
       "      <td>0.045979</td>\n",
       "      <td>456.033957</td>\n",
       "      <td>21.354952</td>\n",
       "      <td>16.999492</td>\n",
       "      <td>8.655778</td>\n",
       "    </tr>\n",
       "    <tr>\n",
       "      <th>13</th>\n",
       "      <td>14</td>\n",
       "      <td>0.045968</td>\n",
       "      <td>456.039254</td>\n",
       "      <td>21.355076</td>\n",
       "      <td>16.999625</td>\n",
       "      <td>8.655949</td>\n",
       "    </tr>\n",
       "    <tr>\n",
       "      <th>14</th>\n",
       "      <td>15</td>\n",
       "      <td>0.045956</td>\n",
       "      <td>456.044815</td>\n",
       "      <td>21.355206</td>\n",
       "      <td>16.999761</td>\n",
       "      <td>8.656116</td>\n",
       "    </tr>\n",
       "    <tr>\n",
       "      <th>15</th>\n",
       "      <td>16</td>\n",
       "      <td>0.045944</td>\n",
       "      <td>456.050628</td>\n",
       "      <td>21.355342</td>\n",
       "      <td>16.999899</td>\n",
       "      <td>8.656279</td>\n",
       "    </tr>\n",
       "    <tr>\n",
       "      <th>16</th>\n",
       "      <td>17</td>\n",
       "      <td>0.045932</td>\n",
       "      <td>456.056684</td>\n",
       "      <td>21.355484</td>\n",
       "      <td>17.000036</td>\n",
       "      <td>8.656439</td>\n",
       "    </tr>\n",
       "    <tr>\n",
       "      <th>17</th>\n",
       "      <td>18</td>\n",
       "      <td>0.045918</td>\n",
       "      <td>456.062974</td>\n",
       "      <td>21.355631</td>\n",
       "      <td>17.000177</td>\n",
       "      <td>8.656597</td>\n",
       "    </tr>\n",
       "    <tr>\n",
       "      <th>18</th>\n",
       "      <td>19</td>\n",
       "      <td>0.045905</td>\n",
       "      <td>456.069490</td>\n",
       "      <td>21.355784</td>\n",
       "      <td>17.000317</td>\n",
       "      <td>8.656751</td>\n",
       "    </tr>\n",
       "  </tbody>\n",
       "</table>\n",
       "</div>"
      ],
      "text/plain": [
       "    alpha        R2         MSE       RMSE        MAE      MAPE\n",
       "0       1  0.046058  455.996401  21.354072  16.998308  8.653415\n",
       "1       2  0.046056  455.997238  21.354092  16.998366  8.653638\n",
       "2       3  0.046053  455.998584  21.354123  16.998441  8.653856\n",
       "3       4  0.046049  456.000404  21.354166  16.998513  8.654068\n",
       "4       5  0.046045  456.002667  21.354219  16.998596  8.654275\n",
       "5       6  0.046039  456.005346  21.354282  16.998695  8.654478\n",
       "6       7  0.046033  456.008415  21.354354  16.998801  8.654677\n",
       "7       8  0.046025  456.011854  21.354434  16.998912  8.654871\n",
       "8       9  0.046017  456.015643  21.354523  16.999022  8.655060\n",
       "9      10  0.046009  456.019763  21.354619  16.999135  8.655245\n",
       "10     11  0.046000  456.024198  21.354723  16.999248  8.655427\n",
       "11     12  0.045990  456.028934  21.354834  16.999365  8.655604\n",
       "12     13  0.045979  456.033957  21.354952  16.999492  8.655778\n",
       "13     14  0.045968  456.039254  21.355076  16.999625  8.655949\n",
       "14     15  0.045956  456.044815  21.355206  16.999761  8.656116\n",
       "15     16  0.045944  456.050628  21.355342  16.999899  8.656279\n",
       "16     17  0.045932  456.056684  21.355484  17.000036  8.656439\n",
       "17     18  0.045918  456.062974  21.355631  17.000177  8.656597\n",
       "18     19  0.045905  456.069490  21.355784  17.000317  8.656751"
      ]
     },
     "execution_count": 11,
     "metadata": {},
     "output_type": "execute_result"
    }
   ],
   "source": [
    "resultados = []\n",
    "\n",
    "for n in range (1,20):\n",
    "    ridge = lm.Ridge(alpha=n, max_iter=100)\n",
    "    ridge.fit(X_training, y_training)\n",
    "    y_pred = ridge.predict(X_training)\n",
    "\n",
    "    \n",
    "    # Calcula a acurácia (ou outra métrica que desejar)\n",
    "    R2 = mt.r2_score(y_training, y_pred)\n",
    "    MSE = mt.mean_squared_error(y_training, y_pred)\n",
    "    RMSE = mt.root_mean_squared_error(y_training, y_pred)\n",
    "    MAE = mt.mean_absolute_error(y_training, y_pred)        \n",
    "    MAPE = mt.mean_absolute_percentage_error(y_training, y_pred)\n",
    "\n",
    "    resultados.append({\n",
    "        'alpha': n,\n",
    "        'R2': R2,\n",
    "        'MSE': MSE,\n",
    "        'RMSE': RMSE,\n",
    "        'MAE': MAE,\n",
    "        'MAPE': MAPE\n",
    "    })\n",
    "# Exibe os resultados em um DataFrame\n",
    "pd.DataFrame(resultados)"
   ]
  },
  {
   "cell_type": "code",
   "execution_count": 12,
   "id": "11584970",
   "metadata": {},
   "outputs": [
    {
     "data": {
      "application/vnd.microsoft.datawrangler.viewer.v0+json": {
       "columns": [
        {
         "name": "index",
         "rawType": "int64",
         "type": "integer"
        },
        {
         "name": "alpha",
         "rawType": "object",
         "type": "string"
        },
        {
         "name": "R2",
         "rawType": "float64",
         "type": "float"
        },
        {
         "name": "MSE",
         "rawType": "float64",
         "type": "float"
        },
        {
         "name": "RMSE",
         "rawType": "float64",
         "type": "float"
        },
        {
         "name": "MAE",
         "rawType": "float64",
         "type": "float"
        },
        {
         "name": "MAPE",
         "rawType": "float64",
         "type": "float"
        }
       ],
       "ref": "609dd033-8423-410f-99cc-567ac3bd0b35",
       "rows": [
        [
         "0",
         "4",
         "0.039935010539959515",
         "458.44218070007463",
         "21.411262940332936",
         "17.038733196783852",
         "8.682038643417762"
        ]
       ],
       "shape": {
        "columns": 6,
        "rows": 1
       }
      },
      "text/html": [
       "<div>\n",
       "<style scoped>\n",
       "    .dataframe tbody tr th:only-of-type {\n",
       "        vertical-align: middle;\n",
       "    }\n",
       "\n",
       "    .dataframe tbody tr th {\n",
       "        vertical-align: top;\n",
       "    }\n",
       "\n",
       "    .dataframe thead th {\n",
       "        text-align: right;\n",
       "    }\n",
       "</style>\n",
       "<table border=\"1\" class=\"dataframe\">\n",
       "  <thead>\n",
       "    <tr style=\"text-align: right;\">\n",
       "      <th></th>\n",
       "      <th>alpha</th>\n",
       "      <th>R2</th>\n",
       "      <th>MSE</th>\n",
       "      <th>RMSE</th>\n",
       "      <th>MAE</th>\n",
       "      <th>MAPE</th>\n",
       "    </tr>\n",
       "  </thead>\n",
       "  <tbody>\n",
       "    <tr>\n",
       "      <th>0</th>\n",
       "      <td>4</td>\n",
       "      <td>0.039935</td>\n",
       "      <td>458.442181</td>\n",
       "      <td>21.411263</td>\n",
       "      <td>17.038733</td>\n",
       "      <td>8.682039</td>\n",
       "    </tr>\n",
       "  </tbody>\n",
       "</table>\n",
       "</div>"
      ],
      "text/plain": [
       "  alpha        R2         MSE       RMSE        MAE      MAPE\n",
       "0     4  0.039935  458.442181  21.411263  17.038733  8.682039"
      ]
     },
     "execution_count": 12,
     "metadata": {},
     "output_type": "execute_result"
    }
   ],
   "source": [
    "resultados = []\n",
    "\n",
    "ridge = lm.Ridge(alpha=4, max_iter=100)\n",
    "ridge.fit(X_training, y_training)\n",
    "y_pred = ridge.predict(X_validation)\n",
    "\n",
    "# Calcula a acurácia (ou outra métrica que desejar)\n",
    "R2 = mt.r2_score(y_validation, y_pred)\n",
    "MSE = mt.mean_squared_error(y_validation, y_pred)\n",
    "RMSE = mt.root_mean_squared_error(y_validation, y_pred)\n",
    "MAE = mt.mean_absolute_error(y_validation, y_pred)        \n",
    "MAPE = mt.mean_absolute_percentage_error(y_validation, y_pred)\n",
    "resultados.append({\n",
    "    'alpha': \"4\",\n",
    "    'R2': R2,\n",
    "    'MSE': MSE,\n",
    "    'RMSE': RMSE,\n",
    "    'MAE': MAE,\n",
    "    'MAPE': MAPE\n",
    "})\n",
    "# Exibe os resultados em um DataFrame\n",
    "pd.DataFrame(resultados)"
   ]
  },
  {
   "cell_type": "code",
   "execution_count": 14,
   "id": "fd221932",
   "metadata": {},
   "outputs": [
    {
     "data": {
      "application/vnd.microsoft.datawrangler.viewer.v0+json": {
       "columns": [
        {
         "name": "index",
         "rawType": "int64",
         "type": "integer"
        },
        {
         "name": "R2",
         "rawType": "float64",
         "type": "float"
        },
        {
         "name": "MSE",
         "rawType": "float64",
         "type": "float"
        },
        {
         "name": "RMSE",
         "rawType": "float64",
         "type": "float"
        },
        {
         "name": "MAE",
         "rawType": "float64",
         "type": "float"
        },
        {
         "name": "MAPE",
         "rawType": "float64",
         "type": "float"
        }
       ],
       "ref": "6968b62d-3d0f-42e7-bff8-b5ed079cd0a3",
       "rows": [
        [
         "0",
         "0.05116339617268528",
         "461.9894683609225",
         "21.493940270711708",
         "17.143317091057163",
         "8.534053979968768"
        ]
       ],
       "shape": {
        "columns": 5,
        "rows": 1
       }
      },
      "text/html": [
       "<div>\n",
       "<style scoped>\n",
       "    .dataframe tbody tr th:only-of-type {\n",
       "        vertical-align: middle;\n",
       "    }\n",
       "\n",
       "    .dataframe tbody tr th {\n",
       "        vertical-align: top;\n",
       "    }\n",
       "\n",
       "    .dataframe thead th {\n",
       "        text-align: right;\n",
       "    }\n",
       "</style>\n",
       "<table border=\"1\" class=\"dataframe\">\n",
       "  <thead>\n",
       "    <tr style=\"text-align: right;\">\n",
       "      <th></th>\n",
       "      <th>R2</th>\n",
       "      <th>MSE</th>\n",
       "      <th>RMSE</th>\n",
       "      <th>MAE</th>\n",
       "      <th>MAPE</th>\n",
       "    </tr>\n",
       "  </thead>\n",
       "  <tbody>\n",
       "    <tr>\n",
       "      <th>0</th>\n",
       "      <td>0.051163</td>\n",
       "      <td>461.989468</td>\n",
       "      <td>21.49394</td>\n",
       "      <td>17.143317</td>\n",
       "      <td>8.534054</td>\n",
       "    </tr>\n",
       "  </tbody>\n",
       "</table>\n",
       "</div>"
      ],
      "text/plain": [
       "         R2         MSE      RMSE        MAE      MAPE\n",
       "0  0.051163  461.989468  21.49394  17.143317  8.534054"
      ]
     },
     "execution_count": 14,
     "metadata": {},
     "output_type": "execute_result"
    }
   ],
   "source": [
    "ridge = lm.Ridge(alpha=4, max_iter=100)\n",
    "#model fit (ajuste, treinamento)\n",
    "ridge.fit(pd.concat([X_training, X_validation]), pd.concat([y_training, y_validation]))\n",
    "#previsao\n",
    "y_pred_test = ridge.predict(X_test)\n",
    "\n",
    "\n",
    "resultados = []\n",
    "\n",
    "# Calcula a acurácia (ou outra métrica que desejar)\n",
    "R2 = mt.r2_score(y_test, y_pred_test)\n",
    "MSE = mt.mean_squared_error(y_test, y_pred_test)\n",
    "RMSE = mt.root_mean_squared_error(y_test, y_pred_test)\n",
    "MAE = mt.mean_absolute_error(y_test, y_pred_test)        \n",
    "MAPE = mt.mean_absolute_percentage_error(y_test, y_pred_test)\n",
    "\n",
    "resultados.append({\n",
    "    'R2': R2,\n",
    "    'MSE': MSE,\n",
    "    'RMSE': RMSE,\n",
    "    'MAE': MAE,\n",
    "    'MAPE': MAPE\n",
    "})\n",
    "# Exibe os resultados em um DataFrame\n",
    "pd.DataFrame(resultados)"
   ]
  }
 ],
 "metadata": {
  "kernelspec": {
   "display_name": "bacon",
   "language": "python",
   "name": "python3"
  },
  "language_info": {
   "codemirror_mode": {
    "name": "ipython",
    "version": 3
   },
   "file_extension": ".py",
   "mimetype": "text/x-python",
   "name": "python",
   "nbconvert_exporter": "python",
   "pygments_lexer": "ipython3",
   "version": "3.12.11"
  }
 },
 "nbformat": 4,
 "nbformat_minor": 5
}
