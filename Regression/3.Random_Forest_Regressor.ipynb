{
 "cells": [
  {
   "cell_type": "code",
   "execution_count": 1,
   "id": "a3aa1014",
   "metadata": {},
   "outputs": [],
   "source": [
    "import numpy as np\n",
    "import pandas as pd\n",
    "from sklearn import metrics as mt \n",
    "from sklearn import ensemble as en"
   ]
  },
  {
   "cell_type": "code",
   "execution_count": 8,
   "id": "6c48690f",
   "metadata": {},
   "outputs": [],
   "source": [
    "X_training = pd.read_csv (r\"C:\\Users\\muzio\\OneDrive\\Documentos\\repos\\machine_learning\\Regression\\X_training.csv\")\n",
    "y_training = pd.read_csv (r\"C:\\Users\\muzio\\OneDrive\\Documentos\\repos\\machine_learning\\Regression\\y_training.csv\").values.ravel()\n",
    "\n",
    "X_validation = pd.read_csv (r\"C:\\Users\\muzio\\OneDrive\\Documentos\\repos\\machine_learning\\Regression\\X_validation.csv\")\n",
    "y_validation = pd.read_csv (r\"C:\\Users\\muzio\\OneDrive\\Documentos\\repos\\machine_learning\\Regression\\y_validation.csv\").values.ravel()\n",
    "\n",
    "X_test = pd.read_csv (r\"C:\\Users\\muzio\\OneDrive\\Documentos\\repos\\machine_learning\\Regression\\X_test.csv\")\n",
    "y_test = pd.read_csv (r\"C:\\Users\\muzio\\OneDrive\\Documentos\\repos\\machine_learning\\Regression\\y_test.csv\").values.ravel()"
   ]
  },
  {
   "cell_type": "code",
   "execution_count": 7,
   "id": "00665f38",
   "metadata": {},
   "outputs": [
    {
     "data": {
      "application/vnd.microsoft.datawrangler.viewer.v0+json": {
       "columns": [
        {
         "name": "index",
         "rawType": "int64",
         "type": "integer"
        },
        {
         "name": "n_estimators",
         "rawType": "int64",
         "type": "integer"
        },
        {
         "name": "max_depth",
         "rawType": "int64",
         "type": "integer"
        },
        {
         "name": "R2",
         "rawType": "float64",
         "type": "float"
        },
        {
         "name": "MSE",
         "rawType": "float64",
         "type": "float"
        },
        {
         "name": "RMSE",
         "rawType": "float64",
         "type": "float"
        },
        {
         "name": "MAE",
         "rawType": "float64",
         "type": "float"
        },
        {
         "name": "MAPE",
         "rawType": "float64",
         "type": "float"
        }
       ],
       "ref": "a1f5e089-f4dd-49fd-a9ff-6f58d8e420bc",
       "rows": [
        [
         "0",
         "50",
         "20",
         "0.8806097311880411",
         "57.07004803148308",
         "7.55447205511299",
         "5.554339309982794",
         "2.7062183623433347"
        ],
        [
         "1",
         "50",
         "21",
         "0.8871893966196339",
         "53.9248853147167",
         "7.343356542802256",
         "5.353210589364843",
         "2.6609032041318845"
        ],
        [
         "2",
         "50",
         "22",
         "0.8908880195074603",
         "52.156897119706834",
         "7.221973215105885",
         "5.222121355960589",
         "2.6276170760297894"
        ],
        [
         "3",
         "50",
         "23",
         "0.8940025125629195",
         "50.66813032122742",
         "7.118154980135472",
         "5.121600594910888",
         "2.6154615817680913"
        ],
        [
         "4",
         "50",
         "24",
         "0.895554658749795",
         "49.926184948976186",
         "7.065846371736098",
         "5.072048023705365",
         "2.6048028240326473"
        ],
        [
         "5",
         "50",
         "25",
         "0.8969814344952005",
         "49.24416822239776",
         "7.017418914558099",
         "5.021998556540104",
         "2.5855033431800982"
        ],
        [
         "6",
         "50",
         "26",
         "0.8976176183535927",
         "48.94006434762993",
         "6.995717572031473",
         "4.999335705436575",
         "2.582893338411987"
        ],
        [
         "7",
         "50",
         "27",
         "0.8977141025201305",
         "48.893943704185645",
         "6.99242044675416",
         "4.988898696090226",
         "2.5928581606093486"
        ],
        [
         "8",
         "50",
         "28",
         "0.8984616500427568",
         "48.53660659918845",
         "6.966821843508591",
         "4.964214161025776",
         "2.594290813146544"
        ],
        [
         "9",
         "50",
         "29",
         "0.8985602665383301",
         "48.489466675683246",
         "6.963437848913656",
         "4.958231096145287",
         "2.5914140272172803"
        ],
        [
         "10",
         "50",
         "30",
         "0.8987153373554662",
         "48.41534087740588",
         "6.958113313061658",
         "4.950549940560525",
         "2.574242578891132"
        ],
        [
         "11",
         "50",
         "31",
         "0.8989945895419528",
         "48.28185482486343",
         "6.948514576861981",
         "4.944085845687395",
         "2.577151530625526"
        ],
        [
         "12",
         "50",
         "32",
         "0.8990906950630551",
         "48.23591517869311",
         "6.945208073102858",
         "4.942329316060845",
         "2.5781730100947446"
        ],
        [
         "13",
         "50",
         "33",
         "0.8990181097473431",
         "48.270611871273545",
         "6.947705511265827",
         "4.9396066174026965",
         "2.575452236450943"
        ],
        [
         "14",
         "50",
         "34",
         "0.8992990598662358",
         "48.136314185715",
         "6.938033884733844",
         "4.9329194804693985",
         "2.566495298540738"
        ],
        [
         "15",
         "50",
         "35",
         "0.8993384309640104",
         "48.11749430647855",
         "6.936677468823136",
         "4.9328137475352944",
         "2.5687925990101994"
        ],
        [
         "16",
         "50",
         "36",
         "0.8992847574774846",
         "48.14315090717582",
         "6.938526566006346",
         "4.933771963401578",
         "2.5712992139204633"
        ],
        [
         "17",
         "50",
         "37",
         "0.8992719983644492",
         "48.14924992346096",
         "6.938966055793973",
         "4.933441413527319",
         "2.57229540222353"
        ],
        [
         "18",
         "50",
         "38",
         "0.8992498145195024",
         "48.159854079974146",
         "6.939730115787944",
         "4.930747831675399",
         "2.570841614891414"
        ],
        [
         "19",
         "50",
         "39",
         "0.8992531206767711",
         "48.15827369527441",
         "6.939616249856646",
         "4.932393094664361",
         "2.5709998966170806"
        ],
        [
         "20",
         "50",
         "40",
         "0.8992863630085808",
         "48.142383443146414",
         "6.938471261246703",
         "4.93106376767425",
         "2.5701949278027683"
        ],
        [
         "21",
         "50",
         "41",
         "0.8992487348812651",
         "48.16037016061181",
         "6.9397672987364505",
         "4.931791059330459",
         "2.5727070002386343"
        ],
        [
         "22",
         "50",
         "42",
         "0.8992407691887605",
         "48.16417786167793",
         "6.940041632560854",
         "4.933791248957841",
         "2.5722462142118605"
        ],
        [
         "23",
         "50",
         "43",
         "0.8993026115183965",
         "48.134616451373525",
         "6.937911533838806",
         "4.93168973509924",
         "2.5719627604466213"
        ],
        [
         "24",
         "50",
         "44",
         "0.8993026115183965",
         "48.134616451373525",
         "6.937911533838806",
         "4.93168973509924",
         "2.5719627604466218"
        ],
        [
         "25",
         "50",
         "45",
         "0.8993026115183965",
         "48.13461645137353",
         "6.937911533838806",
         "4.931689735099241",
         "2.5719627604466218"
        ],
        [
         "26",
         "50",
         "46",
         "0.8993026115183965",
         "48.134616451373525",
         "6.937911533838806",
         "4.931689735099241",
         "2.5719627604466218"
        ],
        [
         "27",
         "50",
         "47",
         "0.8993026115183965",
         "48.134616451373525",
         "6.937911533838806",
         "4.931689735099241",
         "2.5719627604466218"
        ],
        [
         "28",
         "50",
         "48",
         "0.8993026115183965",
         "48.134616451373525",
         "6.937911533838806",
         "4.931689735099241",
         "2.5719627604466218"
        ],
        [
         "29",
         "50",
         "49",
         "0.8993026115183965",
         "48.134616451373525",
         "6.937911533838806",
         "4.93168973509924",
         "2.5719627604466218"
        ],
        [
         "30",
         "100",
         "20",
         "0.8831460353000828",
         "55.85766280999867",
         "7.473798419143955",
         "5.523526416493518",
         "2.724556011955834"
        ],
        [
         "31",
         "100",
         "21",
         "0.8899547966584027",
         "52.60298936281652",
         "7.252791832309578",
         "5.314990019926918",
         "2.670962730300835"
        ],
        [
         "32",
         "100",
         "22",
         "0.8944024171253806",
         "50.4769709175778",
         "7.104714696423622",
         "5.164319810491885",
         "2.6366782198690624"
        ],
        [
         "33",
         "100",
         "23",
         "0.8974718317801041",
         "49.00975216083381",
         "7.000696548261024",
         "5.055608654854807",
         "2.616586953748274"
        ],
        [
         "34",
         "100",
         "24",
         "0.8993235785984736",
         "48.12459392375061",
         "6.9371891947496005",
         "4.99662627495849",
         "2.6070939498934678"
        ],
        [
         "35",
         "100",
         "25",
         "0.900858834814841",
         "47.3907221695399",
         "6.8840919640530585",
         "4.945249805484656",
         "2.5922941579326424"
        ],
        [
         "36",
         "100",
         "26",
         "0.9017051431661002",
         "46.98617614802218",
         "6.85464631822986",
         "4.913970920643386",
         "2.588736027678279"
        ],
        [
         "37",
         "100",
         "27",
         "0.9019109597932677",
         "46.88779321518338",
         "6.847466189415131",
         "4.895895660452514",
         "2.5958043007013565"
        ],
        [
         "38",
         "100",
         "28",
         "0.9024083802700149",
         "46.6500199797071",
         "6.830081989237545",
         "4.881825574473214",
         "2.5930893986443317"
        ],
        [
         "39",
         "100",
         "29",
         "0.9025354015045355",
         "46.58930223422211",
         "6.825635665212589",
         "4.87651219526843",
         "2.583789051186183"
        ],
        [
         "40",
         "100",
         "30",
         "0.9026157202931622",
         "46.550908844456195",
         "6.822822644951002",
         "4.870755589910177",
         "2.5793110862514967"
        ],
        [
         "41",
         "100",
         "31",
         "0.9027877457055695",
         "46.468678536689744",
         "6.816793860510214",
         "4.866285471927095",
         "2.576360109653562"
        ],
        [
         "42",
         "100",
         "32",
         "0.90293161813221",
         "46.39990570972083",
         "6.81174762522224",
         "4.866140194018168",
         "2.5737640443879193"
        ],
        [
         "43",
         "100",
         "33",
         "0.9028586614089956",
         "46.43477993975227",
         "6.814307003632304",
         "4.86129417355516",
         "2.5716428401338125"
        ],
        [
         "44",
         "100",
         "34",
         "0.9029890388623996",
         "46.37245787948704",
         "6.809732585020284",
         "4.856569074607846",
         "2.572522968032323"
        ],
        [
         "45",
         "100",
         "35",
         "0.9029656567224212",
         "46.38363483607584",
         "6.810553196038912",
         "4.8565857897523905",
         "2.5752637471452897"
        ],
        [
         "46",
         "100",
         "36",
         "0.9029580213209776",
         "46.387284653866395",
         "6.810821143875854",
         "4.8585006568298565",
         "2.574177597900753"
        ],
        [
         "47",
         "100",
         "37",
         "0.9029334782517193",
         "46.399016549232314",
         "6.81168235821609",
         "4.8586609986796905",
         "2.5767791023844198"
        ],
        [
         "48",
         "100",
         "38",
         "0.9029136311688659",
         "46.40850370411518",
         "6.812378711148932",
         "4.8573411165154585",
         "2.575873558432171"
        ],
        [
         "49",
         "100",
         "39",
         "0.9029399864961463",
         "46.39590552665284",
         "6.811453995047815",
         "4.857764817489222",
         "2.5741778883133164"
        ]
       ],
       "shape": {
        "columns": 7,
        "rows": 90
       }
      },
      "text/html": [
       "<div>\n",
       "<style scoped>\n",
       "    .dataframe tbody tr th:only-of-type {\n",
       "        vertical-align: middle;\n",
       "    }\n",
       "\n",
       "    .dataframe tbody tr th {\n",
       "        vertical-align: top;\n",
       "    }\n",
       "\n",
       "    .dataframe thead th {\n",
       "        text-align: right;\n",
       "    }\n",
       "</style>\n",
       "<table border=\"1\" class=\"dataframe\">\n",
       "  <thead>\n",
       "    <tr style=\"text-align: right;\">\n",
       "      <th></th>\n",
       "      <th>n_estimators</th>\n",
       "      <th>max_depth</th>\n",
       "      <th>R2</th>\n",
       "      <th>MSE</th>\n",
       "      <th>RMSE</th>\n",
       "      <th>MAE</th>\n",
       "      <th>MAPE</th>\n",
       "    </tr>\n",
       "  </thead>\n",
       "  <tbody>\n",
       "    <tr>\n",
       "      <th>0</th>\n",
       "      <td>50</td>\n",
       "      <td>20</td>\n",
       "      <td>0.880610</td>\n",
       "      <td>57.070048</td>\n",
       "      <td>7.554472</td>\n",
       "      <td>5.554339</td>\n",
       "      <td>2.706218</td>\n",
       "    </tr>\n",
       "    <tr>\n",
       "      <th>1</th>\n",
       "      <td>50</td>\n",
       "      <td>21</td>\n",
       "      <td>0.887189</td>\n",
       "      <td>53.924885</td>\n",
       "      <td>7.343357</td>\n",
       "      <td>5.353211</td>\n",
       "      <td>2.660903</td>\n",
       "    </tr>\n",
       "    <tr>\n",
       "      <th>2</th>\n",
       "      <td>50</td>\n",
       "      <td>22</td>\n",
       "      <td>0.890888</td>\n",
       "      <td>52.156897</td>\n",
       "      <td>7.221973</td>\n",
       "      <td>5.222121</td>\n",
       "      <td>2.627617</td>\n",
       "    </tr>\n",
       "    <tr>\n",
       "      <th>3</th>\n",
       "      <td>50</td>\n",
       "      <td>23</td>\n",
       "      <td>0.894003</td>\n",
       "      <td>50.668130</td>\n",
       "      <td>7.118155</td>\n",
       "      <td>5.121601</td>\n",
       "      <td>2.615462</td>\n",
       "    </tr>\n",
       "    <tr>\n",
       "      <th>4</th>\n",
       "      <td>50</td>\n",
       "      <td>24</td>\n",
       "      <td>0.895555</td>\n",
       "      <td>49.926185</td>\n",
       "      <td>7.065846</td>\n",
       "      <td>5.072048</td>\n",
       "      <td>2.604803</td>\n",
       "    </tr>\n",
       "    <tr>\n",
       "      <th>...</th>\n",
       "      <td>...</td>\n",
       "      <td>...</td>\n",
       "      <td>...</td>\n",
       "      <td>...</td>\n",
       "      <td>...</td>\n",
       "      <td>...</td>\n",
       "      <td>...</td>\n",
       "    </tr>\n",
       "    <tr>\n",
       "      <th>85</th>\n",
       "      <td>150</td>\n",
       "      <td>45</td>\n",
       "      <td>0.904302</td>\n",
       "      <td>45.744726</td>\n",
       "      <td>6.763485</td>\n",
       "      <td>4.833067</td>\n",
       "      <td>2.597046</td>\n",
       "    </tr>\n",
       "    <tr>\n",
       "      <th>86</th>\n",
       "      <td>150</td>\n",
       "      <td>46</td>\n",
       "      <td>0.904302</td>\n",
       "      <td>45.744726</td>\n",
       "      <td>6.763485</td>\n",
       "      <td>4.833067</td>\n",
       "      <td>2.597046</td>\n",
       "    </tr>\n",
       "    <tr>\n",
       "      <th>87</th>\n",
       "      <td>150</td>\n",
       "      <td>47</td>\n",
       "      <td>0.904302</td>\n",
       "      <td>45.744726</td>\n",
       "      <td>6.763485</td>\n",
       "      <td>4.833067</td>\n",
       "      <td>2.597046</td>\n",
       "    </tr>\n",
       "    <tr>\n",
       "      <th>88</th>\n",
       "      <td>150</td>\n",
       "      <td>48</td>\n",
       "      <td>0.904302</td>\n",
       "      <td>45.744726</td>\n",
       "      <td>6.763485</td>\n",
       "      <td>4.833067</td>\n",
       "      <td>2.597046</td>\n",
       "    </tr>\n",
       "    <tr>\n",
       "      <th>89</th>\n",
       "      <td>150</td>\n",
       "      <td>49</td>\n",
       "      <td>0.904302</td>\n",
       "      <td>45.744726</td>\n",
       "      <td>6.763485</td>\n",
       "      <td>4.833067</td>\n",
       "      <td>2.597046</td>\n",
       "    </tr>\n",
       "  </tbody>\n",
       "</table>\n",
       "<p>90 rows × 7 columns</p>\n",
       "</div>"
      ],
      "text/plain": [
       "    n_estimators  max_depth        R2        MSE      RMSE       MAE      MAPE\n",
       "0             50         20  0.880610  57.070048  7.554472  5.554339  2.706218\n",
       "1             50         21  0.887189  53.924885  7.343357  5.353211  2.660903\n",
       "2             50         22  0.890888  52.156897  7.221973  5.222121  2.627617\n",
       "3             50         23  0.894003  50.668130  7.118155  5.121601  2.615462\n",
       "4             50         24  0.895555  49.926185  7.065846  5.072048  2.604803\n",
       "..           ...        ...       ...        ...       ...       ...       ...\n",
       "85           150         45  0.904302  45.744726  6.763485  4.833067  2.597046\n",
       "86           150         46  0.904302  45.744726  6.763485  4.833067  2.597046\n",
       "87           150         47  0.904302  45.744726  6.763485  4.833067  2.597046\n",
       "88           150         48  0.904302  45.744726  6.763485  4.833067  2.597046\n",
       "89           150         49  0.904302  45.744726  6.763485  4.833067  2.597046\n",
       "\n",
       "[90 rows x 7 columns]"
      ]
     },
     "execution_count": 7,
     "metadata": {},
     "output_type": "execute_result"
    }
   ],
   "source": [
    "# Hyperparameter search\n",
    "resultados = []\n",
    "for n in [50, 100, 150]:\n",
    "    for depth in range (20, 50):\n",
    "        model = en.RandomForestRegressor(n_estimators=n, max_depth=depth, random_state=0, n_jobs=-1)\n",
    "        model.fit(X_training, y_training)\n",
    "        y_pred = model.predict(X_training)\n",
    "        # Calcula a acurácia (ou outra métrica que desejar)\n",
    "        R2 = mt.r2_score(y_training, y_pred)\n",
    "        MSE = mt.mean_squared_error(y_training, y_pred)\n",
    "        RMSE = mt.root_mean_squared_error(y_training, y_pred)\n",
    "        MAE = mt.mean_absolute_error(y_training, y_pred)        \n",
    "        MAPE = mt.mean_absolute_percentage_error(y_training, y_pred)\n",
    "\n",
    "        resultados.append({\n",
    "            'n_estimators': n,\n",
    "            'max_depth': depth,\n",
    "            'R2': R2,\n",
    "            'MSE': MSE,\n",
    "            'RMSE': RMSE,\n",
    "            'MAE': MAE,\n",
    "            'MAPE': MAPE\n",
    "        })\n",
    "\n",
    "# Exibe os resultados em um DataFrame\n",
    "pd.DataFrame(resultados)"
   ]
  },
  {
   "cell_type": "code",
   "execution_count": 10,
   "id": "b6402f85",
   "metadata": {},
   "outputs": [
    {
     "data": {
      "application/vnd.microsoft.datawrangler.viewer.v0+json": {
       "columns": [
        {
         "name": "index",
         "rawType": "int64",
         "type": "integer"
        },
        {
         "name": "n_estimators",
         "rawType": "object",
         "type": "string"
        },
        {
         "name": "max_depth",
         "rawType": "object",
         "type": "string"
        },
        {
         "name": "R2",
         "rawType": "float64",
         "type": "float"
        },
        {
         "name": "MSE",
         "rawType": "float64",
         "type": "float"
        },
        {
         "name": "RMSE",
         "rawType": "float64",
         "type": "float"
        },
        {
         "name": "MAE",
         "rawType": "float64",
         "type": "float"
        },
        {
         "name": "MAPE",
         "rawType": "float64",
         "type": "float"
        }
       ],
       "ref": "9d793bca-4538-4f01-9f4d-8efa63fb37d6",
       "rows": [
        [
         "0",
         "150",
         "24",
         "0.3350168350317624",
         "317.5371830279256",
         "17.819573031583154",
         "13.03928368599369",
         "7.077895668351211"
        ]
       ],
       "shape": {
        "columns": 7,
        "rows": 1
       }
      },
      "text/html": [
       "<div>\n",
       "<style scoped>\n",
       "    .dataframe tbody tr th:only-of-type {\n",
       "        vertical-align: middle;\n",
       "    }\n",
       "\n",
       "    .dataframe tbody tr th {\n",
       "        vertical-align: top;\n",
       "    }\n",
       "\n",
       "    .dataframe thead th {\n",
       "        text-align: right;\n",
       "    }\n",
       "</style>\n",
       "<table border=\"1\" class=\"dataframe\">\n",
       "  <thead>\n",
       "    <tr style=\"text-align: right;\">\n",
       "      <th></th>\n",
       "      <th>n_estimators</th>\n",
       "      <th>max_depth</th>\n",
       "      <th>R2</th>\n",
       "      <th>MSE</th>\n",
       "      <th>RMSE</th>\n",
       "      <th>MAE</th>\n",
       "      <th>MAPE</th>\n",
       "    </tr>\n",
       "  </thead>\n",
       "  <tbody>\n",
       "    <tr>\n",
       "      <th>0</th>\n",
       "      <td>150</td>\n",
       "      <td>24</td>\n",
       "      <td>0.335017</td>\n",
       "      <td>317.537183</td>\n",
       "      <td>17.819573</td>\n",
       "      <td>13.039284</td>\n",
       "      <td>7.077896</td>\n",
       "    </tr>\n",
       "  </tbody>\n",
       "</table>\n",
       "</div>"
      ],
      "text/plain": [
       "  n_estimators max_depth        R2         MSE       RMSE        MAE      MAPE\n",
       "0          150        24  0.335017  317.537183  17.819573  13.039284  7.077896"
      ]
     },
     "execution_count": 10,
     "metadata": {},
     "output_type": "execute_result"
    }
   ],
   "source": [
    "#Validation\n",
    "resultados = []\n",
    "\n",
    "model = en.RandomForestRegressor(n_estimators=150, max_depth=24, random_state=0, n_jobs=-1)\n",
    "model.fit(X_training, y_training)\n",
    "y_pred = model.predict(X_validation)\n",
    "# Calcula a acurácia (ou outra métrica que desejar)\n",
    "R2 = mt.r2_score(y_validation, y_pred)\n",
    "MSE = mt.mean_squared_error(y_validation, y_pred)\n",
    "RMSE = mt.root_mean_squared_error(y_validation, y_pred)\n",
    "MAE = mt.mean_absolute_error(y_validation, y_pred)        \n",
    "MAPE = mt.mean_absolute_percentage_error(y_validation, y_pred)\n",
    "resultados.append({\n",
    "    'n_estimators': \"150\",\n",
    "    'max_depth': \"24\",\n",
    "    'R2': R2,\n",
    "    'MSE': MSE,\n",
    "    'RMSE': RMSE,\n",
    "    'MAE': MAE,\n",
    "    'MAPE': MAPE\n",
    "})\n",
    "\n",
    "# Exibe os resultados em um DataFrame\n",
    "pd.DataFrame(resultados)"
   ]
  },
  {
   "cell_type": "code",
   "execution_count": 11,
   "id": "f4a066ce",
   "metadata": {},
   "outputs": [
    {
     "data": {
      "application/vnd.microsoft.datawrangler.viewer.v0+json": {
       "columns": [
        {
         "name": "index",
         "rawType": "int64",
         "type": "integer"
        },
        {
         "name": "n_estimators",
         "rawType": "object",
         "type": "string"
        },
        {
         "name": "max_depth",
         "rawType": "object",
         "type": "string"
        },
        {
         "name": "R2",
         "rawType": "float64",
         "type": "float"
        },
        {
         "name": "MSE",
         "rawType": "float64",
         "type": "float"
        },
        {
         "name": "RMSE",
         "rawType": "float64",
         "type": "float"
        },
        {
         "name": "MAE",
         "rawType": "float64",
         "type": "float"
        },
        {
         "name": "MAPE",
         "rawType": "float64",
         "type": "float"
        }
       ],
       "ref": "13dc8cd1-d66b-4cf2-b662-695453946739",
       "rows": [
        [
         "0",
         "150",
         "24",
         "0.406608371745539",
         "288.9229628803331",
         "16.997734051347347",
         "12.273463840831376",
         "6.347639906687816"
        ]
       ],
       "shape": {
        "columns": 7,
        "rows": 1
       }
      },
      "text/html": [
       "<div>\n",
       "<style scoped>\n",
       "    .dataframe tbody tr th:only-of-type {\n",
       "        vertical-align: middle;\n",
       "    }\n",
       "\n",
       "    .dataframe tbody tr th {\n",
       "        vertical-align: top;\n",
       "    }\n",
       "\n",
       "    .dataframe thead th {\n",
       "        text-align: right;\n",
       "    }\n",
       "</style>\n",
       "<table border=\"1\" class=\"dataframe\">\n",
       "  <thead>\n",
       "    <tr style=\"text-align: right;\">\n",
       "      <th></th>\n",
       "      <th>n_estimators</th>\n",
       "      <th>max_depth</th>\n",
       "      <th>R2</th>\n",
       "      <th>MSE</th>\n",
       "      <th>RMSE</th>\n",
       "      <th>MAE</th>\n",
       "      <th>MAPE</th>\n",
       "    </tr>\n",
       "  </thead>\n",
       "  <tbody>\n",
       "    <tr>\n",
       "      <th>0</th>\n",
       "      <td>150</td>\n",
       "      <td>24</td>\n",
       "      <td>0.406608</td>\n",
       "      <td>288.922963</td>\n",
       "      <td>16.997734</td>\n",
       "      <td>12.273464</td>\n",
       "      <td>6.34764</td>\n",
       "    </tr>\n",
       "  </tbody>\n",
       "</table>\n",
       "</div>"
      ],
      "text/plain": [
       "  n_estimators max_depth        R2         MSE       RMSE        MAE     MAPE\n",
       "0          150        24  0.406608  288.922963  16.997734  12.273464  6.34764"
      ]
     },
     "execution_count": 11,
     "metadata": {},
     "output_type": "execute_result"
    }
   ],
   "source": [
    "#Validation\n",
    "resultados = []\n",
    "\n",
    "model = en.RandomForestRegressor(n_estimators=150, max_depth=24, random_state=0, n_jobs=-1)\n",
    "model.fit(pd.concat([X_training, X_validation]), np.concatenate([y_training, y_validation]))\n",
    "y_pred_test = model.predict(X_test)\n",
    "\n",
    "# Calcula a acurácia (ou outra métrica que desejar)\n",
    "R2 = mt.r2_score(y_test, y_pred_test)\n",
    "MSE = mt.mean_squared_error(y_test, y_pred_test)\n",
    "RMSE = mt.root_mean_squared_error(y_test, y_pred_test)\n",
    "MAE = mt.mean_absolute_error(y_test, y_pred_test)        \n",
    "MAPE = mt.mean_absolute_percentage_error(y_test, y_pred_test)\n",
    "resultados.append({\n",
    "    'n_estimators': \"150\",\n",
    "    'max_depth': \"24\",\n",
    "    'R2': R2,\n",
    "    'MSE': MSE,\n",
    "    'RMSE': RMSE,\n",
    "    'MAE': MAE,\n",
    "    'MAPE': MAPE\n",
    "})\n",
    "\n",
    "# Exibe os resultados em um DataFrame\n",
    "pd.DataFrame(resultados)"
   ]
  }
 ],
 "metadata": {
  "kernelspec": {
   "display_name": "bacon",
   "language": "python",
   "name": "python3"
  },
  "language_info": {
   "codemirror_mode": {
    "name": "ipython",
    "version": 3
   },
   "file_extension": ".py",
   "mimetype": "text/x-python",
   "name": "python",
   "nbconvert_exporter": "python",
   "pygments_lexer": "ipython3",
   "version": "3.12.11"
  }
 },
 "nbformat": 4,
 "nbformat_minor": 5
}
