{
 "cells": [
  {
   "cell_type": "code",
   "execution_count": 25,
   "id": "f9bc1198",
   "metadata": {},
   "outputs": [],
   "source": [
    "import pandas as pd\n",
    "import numpy as np\n",
    "from sklearn.neighbors import KNeighborsClassifier\n",
    "from sklearn import metrics as mt"
   ]
  },
  {
   "cell_type": "code",
   "execution_count": 23,
   "id": "5589a106",
   "metadata": {},
   "outputs": [],
   "source": [
    "X_training = pd.read_csv (r\"C:\\Users\\muzio\\OneDrive\\Documentos\\repos\\machine_learning\\Classification\\X_training.csv\")\n",
    "y_training = pd.read_csv (r\"C:\\Users\\muzio\\OneDrive\\Documentos\\repos\\machine_learning\\Classification\\y_training.csv\")\n",
    "\n",
    "y_training = y_training.values.ravel()\n",
    "\n",
    "X_validation = pd.read_csv (r\"C:\\Users\\muzio\\OneDrive\\Documentos\\repos\\machine_learning\\Classification\\X_validation.csv\")\n",
    "y_validation = pd.read_csv (r\"C:\\Users\\muzio\\OneDrive\\Documentos\\repos\\machine_learning\\Classification\\y_validation.csv\")\n",
    "y_validation = y_validation.values.ravel()\n",
    "\n",
    "X_test = pd.read_csv (r\"C:\\Users\\muzio\\OneDrive\\Documentos\\repos\\machine_learning\\Classification\\X_test.csv\")\n",
    "y_test = pd.read_csv (r\"C:\\Users\\muzio\\OneDrive\\Documentos\\repos\\machine_learning\\Classification\\y_test.csv\").values.ravel()\n",
    "\n"
   ]
  },
  {
   "cell_type": "code",
   "execution_count": 22,
   "id": "4cf499c3",
   "metadata": {},
   "outputs": [
    {
     "data": {
      "application/vnd.microsoft.datawrangler.viewer.v0+json": {
       "columns": [
        {
         "name": "index",
         "rawType": "int64",
         "type": "integer"
        },
        {
         "name": "n_neighbors",
         "rawType": "int64",
         "type": "integer"
        },
        {
         "name": "acuracia",
         "rawType": "float64",
         "type": "float"
        },
        {
         "name": "precisao",
         "rawType": "float64",
         "type": "float"
        },
        {
         "name": "recall",
         "rawType": "float64",
         "type": "float"
        },
        {
         "name": "F1_score",
         "rawType": "float64",
         "type": "float"
        }
       ],
       "ref": "d9e21c67-bdd4-40c0-aac4-ecc4b7cb6c7c",
       "rows": [
        [
         "0",
         "1",
         "1.0",
         "1.0",
         "1.0",
         "1.0"
        ],
        [
         "1",
         "2",
         "0.8401985796042198",
         "1.0",
         "0.6312842051673667",
         "0.773972068346727"
        ],
        [
         "2",
         "3",
         "0.8321864441839619",
         "0.8120079059067492",
         "0.7974099529082347",
         "0.8046427252733139"
        ],
        [
         "3",
         "4",
         "0.7846652416741364",
         "0.8526696105981534",
         "0.6082474226804123",
         "0.7100116998161458"
        ],
        [
         "4",
         "5",
         "0.7815624353582018",
         "0.7558933613500558",
         "0.7325633193330788",
         "0.744045503021685"
        ],
        [
         "5",
         "7",
         "0.7563124870716403",
         "0.731248949403261",
         "0.6920898561792033",
         "0.7111307276085855"
        ],
        [
         "6",
         "9",
         "0.7399986209749707",
         "0.7138144470140116",
         "0.6678439607992872",
         "0.6900644397685429"
        ],
        [
         "7",
         "11",
         "0.7295594015031373",
         "0.7046517266461155",
         "0.6473208603792796",
         "0.6747707258826846"
        ],
        [
         "8",
         "13",
         "0.7189684892780804",
         "0.6947234852490219",
         "0.627147766323024",
         "0.6592083479656851"
        ],
        [
         "9",
         "15",
         "0.7106805488519616",
         "0.6864515668498822",
         "0.6119702176403208",
         "0.6470746559903106"
        ],
        [
         "10",
         "17",
         "0.7025443011790664",
         "0.6796937659496901",
         "0.5932289677994146",
         "0.6335247544938666"
        ],
        [
         "11",
         "19",
         "0.6968075570571606",
         "0.6757893952934168",
         "0.5774786814305715",
         "0.6227781209251253"
        ],
        [
         "12",
         "21",
         "0.6903950906708957",
         "0.6697296275288335",
         "0.5635420644011709",
         "0.6120643477960361"
        ]
       ],
       "shape": {
        "columns": 5,
        "rows": 13
       }
      },
      "text/html": [
       "<div>\n",
       "<style scoped>\n",
       "    .dataframe tbody tr th:only-of-type {\n",
       "        vertical-align: middle;\n",
       "    }\n",
       "\n",
       "    .dataframe tbody tr th {\n",
       "        vertical-align: top;\n",
       "    }\n",
       "\n",
       "    .dataframe thead th {\n",
       "        text-align: right;\n",
       "    }\n",
       "</style>\n",
       "<table border=\"1\" class=\"dataframe\">\n",
       "  <thead>\n",
       "    <tr style=\"text-align: right;\">\n",
       "      <th></th>\n",
       "      <th>n_neighbors</th>\n",
       "      <th>acuracia</th>\n",
       "      <th>precisao</th>\n",
       "      <th>recall</th>\n",
       "      <th>F1_score</th>\n",
       "    </tr>\n",
       "  </thead>\n",
       "  <tbody>\n",
       "    <tr>\n",
       "      <th>0</th>\n",
       "      <td>1</td>\n",
       "      <td>1.000000</td>\n",
       "      <td>1.000000</td>\n",
       "      <td>1.000000</td>\n",
       "      <td>1.000000</td>\n",
       "    </tr>\n",
       "    <tr>\n",
       "      <th>1</th>\n",
       "      <td>2</td>\n",
       "      <td>0.840199</td>\n",
       "      <td>1.000000</td>\n",
       "      <td>0.631284</td>\n",
       "      <td>0.773972</td>\n",
       "    </tr>\n",
       "    <tr>\n",
       "      <th>2</th>\n",
       "      <td>3</td>\n",
       "      <td>0.832186</td>\n",
       "      <td>0.812008</td>\n",
       "      <td>0.797410</td>\n",
       "      <td>0.804643</td>\n",
       "    </tr>\n",
       "    <tr>\n",
       "      <th>3</th>\n",
       "      <td>4</td>\n",
       "      <td>0.784665</td>\n",
       "      <td>0.852670</td>\n",
       "      <td>0.608247</td>\n",
       "      <td>0.710012</td>\n",
       "    </tr>\n",
       "    <tr>\n",
       "      <th>4</th>\n",
       "      <td>5</td>\n",
       "      <td>0.781562</td>\n",
       "      <td>0.755893</td>\n",
       "      <td>0.732563</td>\n",
       "      <td>0.744046</td>\n",
       "    </tr>\n",
       "    <tr>\n",
       "      <th>5</th>\n",
       "      <td>7</td>\n",
       "      <td>0.756312</td>\n",
       "      <td>0.731249</td>\n",
       "      <td>0.692090</td>\n",
       "      <td>0.711131</td>\n",
       "    </tr>\n",
       "    <tr>\n",
       "      <th>6</th>\n",
       "      <td>9</td>\n",
       "      <td>0.739999</td>\n",
       "      <td>0.713814</td>\n",
       "      <td>0.667844</td>\n",
       "      <td>0.690064</td>\n",
       "    </tr>\n",
       "    <tr>\n",
       "      <th>7</th>\n",
       "      <td>11</td>\n",
       "      <td>0.729559</td>\n",
       "      <td>0.704652</td>\n",
       "      <td>0.647321</td>\n",
       "      <td>0.674771</td>\n",
       "    </tr>\n",
       "    <tr>\n",
       "      <th>8</th>\n",
       "      <td>13</td>\n",
       "      <td>0.718968</td>\n",
       "      <td>0.694723</td>\n",
       "      <td>0.627148</td>\n",
       "      <td>0.659208</td>\n",
       "    </tr>\n",
       "    <tr>\n",
       "      <th>9</th>\n",
       "      <td>15</td>\n",
       "      <td>0.710681</td>\n",
       "      <td>0.686452</td>\n",
       "      <td>0.611970</td>\n",
       "      <td>0.647075</td>\n",
       "    </tr>\n",
       "    <tr>\n",
       "      <th>10</th>\n",
       "      <td>17</td>\n",
       "      <td>0.702544</td>\n",
       "      <td>0.679694</td>\n",
       "      <td>0.593229</td>\n",
       "      <td>0.633525</td>\n",
       "    </tr>\n",
       "    <tr>\n",
       "      <th>11</th>\n",
       "      <td>19</td>\n",
       "      <td>0.696808</td>\n",
       "      <td>0.675789</td>\n",
       "      <td>0.577479</td>\n",
       "      <td>0.622778</td>\n",
       "    </tr>\n",
       "    <tr>\n",
       "      <th>12</th>\n",
       "      <td>21</td>\n",
       "      <td>0.690395</td>\n",
       "      <td>0.669730</td>\n",
       "      <td>0.563542</td>\n",
       "      <td>0.612064</td>\n",
       "    </tr>\n",
       "  </tbody>\n",
       "</table>\n",
       "</div>"
      ],
      "text/plain": [
       "    n_neighbors  acuracia  precisao    recall  F1_score\n",
       "0             1  1.000000  1.000000  1.000000  1.000000\n",
       "1             2  0.840199  1.000000  0.631284  0.773972\n",
       "2             3  0.832186  0.812008  0.797410  0.804643\n",
       "3             4  0.784665  0.852670  0.608247  0.710012\n",
       "4             5  0.781562  0.755893  0.732563  0.744046\n",
       "5             7  0.756312  0.731249  0.692090  0.711131\n",
       "6             9  0.739999  0.713814  0.667844  0.690064\n",
       "7            11  0.729559  0.704652  0.647321  0.674771\n",
       "8            13  0.718968  0.694723  0.627148  0.659208\n",
       "9            15  0.710681  0.686452  0.611970  0.647075\n",
       "10           17  0.702544  0.679694  0.593229  0.633525\n",
       "11           19  0.696808  0.675789  0.577479  0.622778\n",
       "12           21  0.690395  0.669730  0.563542  0.612064"
      ]
     },
     "execution_count": 22,
     "metadata": {},
     "output_type": "execute_result"
    }
   ],
   "source": [
    "resultados = []\n",
    "\n",
    "for z in [1, 2, 3, 4, 5, 7, 9, 11, 13, 15, 17, 19, 21]:\n",
    "    knn_classifier = KNeighborsClassifier(n_neighbors=z)\n",
    "    knn_classifier.fit(X_training, y_training)\n",
    "    y_pred = knn_classifier.predict(X_training)\n",
    "    \n",
    "    # Calcula a acurácia (ou outra métrica que desejar)\n",
    "    acuracia = mt.accuracy_score(y_training, y_pred)\n",
    "    precisao = mt.precision_score(y_training, y_pred)\n",
    "    recall = mt.recall_score(y_training, y_pred)\n",
    "    f1_score = mt.f1_score (y_training, y_pred)\n",
    "    \n",
    "    resultados.append({\n",
    "        'n_neighbors': z,\n",
    "        'acuracia': acuracia,\n",
    "        'precisao': precisao,\n",
    "        'recall': recall,\n",
    "        'F1_score': f1_score\n",
    "    })\n",
    "\n",
    "# Exibe os resultados em um DataFrame\n",
    "pd.DataFrame(resultados)"
   ]
  },
  {
   "cell_type": "code",
   "execution_count": null,
   "id": "98e57f67",
   "metadata": {},
   "outputs": [
    {
     "data": {
      "application/vnd.microsoft.datawrangler.viewer.v0+json": {
       "columns": [
        {
         "name": "index",
         "rawType": "int64",
         "type": "integer"
        },
        {
         "name": "acuracia",
         "rawType": "float64",
         "type": "float"
        },
        {
         "name": "precisao",
         "rawType": "float64",
         "type": "float"
        },
        {
         "name": "recall",
         "rawType": "float64",
         "type": "float"
        },
        {
         "name": "F1_score",
         "rawType": "float64",
         "type": "float"
        }
       ],
       "ref": "da87863d-175a-422e-9c8c-e0ef8def5123",
       "rows": [
        [
         "0",
         "0.6762765854757231",
         "0.6278511404561825",
         "0.6212784913505086",
         "0.6245475239765645"
        ]
       ],
       "shape": {
        "columns": 4,
        "rows": 1
       }
      },
      "text/html": [
       "<div>\n",
       "<style scoped>\n",
       "    .dataframe tbody tr th:only-of-type {\n",
       "        vertical-align: middle;\n",
       "    }\n",
       "\n",
       "    .dataframe tbody tr th {\n",
       "        vertical-align: top;\n",
       "    }\n",
       "\n",
       "    .dataframe thead th {\n",
       "        text-align: right;\n",
       "    }\n",
       "</style>\n",
       "<table border=\"1\" class=\"dataframe\">\n",
       "  <thead>\n",
       "    <tr style=\"text-align: right;\">\n",
       "      <th></th>\n",
       "      <th>acuracia</th>\n",
       "      <th>precisao</th>\n",
       "      <th>recall</th>\n",
       "      <th>F1_score</th>\n",
       "    </tr>\n",
       "  </thead>\n",
       "  <tbody>\n",
       "    <tr>\n",
       "      <th>0</th>\n",
       "      <td>0.676277</td>\n",
       "      <td>0.627851</td>\n",
       "      <td>0.621278</td>\n",
       "      <td>0.624548</td>\n",
       "    </tr>\n",
       "  </tbody>\n",
       "</table>\n",
       "</div>"
      ],
      "text/plain": [
       "   acuracia  precisao    recall  F1_score\n",
       "0  0.676277  0.627851  0.621278  0.624548"
      ]
     },
     "execution_count": 20,
     "metadata": {},
     "output_type": "execute_result"
    }
   ],
   "source": [
    "resultados = []\n",
    "\n",
    "knn_classifier = KNeighborsClassifier(n_neighbors=3)\n",
    "knn_classifier.fit(X_training, y_training )\n",
    "y_pred = knn_classifier.predict(X_validation)\n",
    "    \n",
    "# Calcula a acurácia (ou outra métrica que desejar)\n",
    "acuracia = mt.accuracy_score(y_validation, y_pred)\n",
    "precisao = mt.precision_score(y_validation, y_pred)\n",
    "recall = mt.recall_score(y_validation, y_pred)\n",
    "f1_score = mt.f1_score (y_validation, y_pred)\n",
    "    \n",
    "resultados.append({\n",
    "    'acuracia': acuracia,\n",
    "    'precisao': precisao,\n",
    "    'recall': recall,\n",
    "    'F1_score': f1_score\n",
    "    })\n",
    "\n",
    "# Exibe os resultados em um DataFrame\n",
    "pd.DataFrame(resultados)"
   ]
  },
  {
   "cell_type": "code",
   "execution_count": 26,
   "id": "481cb3b7",
   "metadata": {},
   "outputs": [
    {
     "data": {
      "application/vnd.microsoft.datawrangler.viewer.v0+json": {
       "columns": [
        {
         "name": "index",
         "rawType": "int64",
         "type": "integer"
        },
        {
         "name": "acuracia",
         "rawType": "float64",
         "type": "float"
        },
        {
         "name": "precisao",
         "rawType": "float64",
         "type": "float"
        },
        {
         "name": "recall",
         "rawType": "float64",
         "type": "float"
        },
        {
         "name": "F1_score",
         "rawType": "float64",
         "type": "float"
        }
       ],
       "ref": "a0d4ec9a-bd3b-41e0-8d2a-e047e1da83e8",
       "rows": [
        [
         "0",
         "0.6884486154559147",
         "0.6480251346499102",
         "0.6351957765068191",
         "0.6415463230393246"
        ]
       ],
       "shape": {
        "columns": 4,
        "rows": 1
       }
      },
      "text/html": [
       "<div>\n",
       "<style scoped>\n",
       "    .dataframe tbody tr th:only-of-type {\n",
       "        vertical-align: middle;\n",
       "    }\n",
       "\n",
       "    .dataframe tbody tr th {\n",
       "        vertical-align: top;\n",
       "    }\n",
       "\n",
       "    .dataframe thead th {\n",
       "        text-align: right;\n",
       "    }\n",
       "</style>\n",
       "<table border=\"1\" class=\"dataframe\">\n",
       "  <thead>\n",
       "    <tr style=\"text-align: right;\">\n",
       "      <th></th>\n",
       "      <th>acuracia</th>\n",
       "      <th>precisao</th>\n",
       "      <th>recall</th>\n",
       "      <th>F1_score</th>\n",
       "    </tr>\n",
       "  </thead>\n",
       "  <tbody>\n",
       "    <tr>\n",
       "      <th>0</th>\n",
       "      <td>0.688449</td>\n",
       "      <td>0.648025</td>\n",
       "      <td>0.635196</td>\n",
       "      <td>0.641546</td>\n",
       "    </tr>\n",
       "  </tbody>\n",
       "</table>\n",
       "</div>"
      ],
      "text/plain": [
       "   acuracia  precisao    recall  F1_score\n",
       "0  0.688449  0.648025  0.635196  0.641546"
      ]
     },
     "execution_count": 26,
     "metadata": {},
     "output_type": "execute_result"
    }
   ],
   "source": [
    "# Retrain on train+val with best_k, test on test set\n",
    "resultados = []\n",
    "knn = KNeighborsClassifier(n_neighbors = 3) \n",
    "knn.fit(pd.concat([X_training, X_validation]), np.concatenate([y_training, y_validation]))\n",
    "y_pred_test = knn.predict(X_test)\n",
    "\n",
    "\n",
    "# Calcula a acurácia (ou outra métrica que desejar)\n",
    "acuracia = mt.accuracy_score(y_test, y_pred_test)\n",
    "precisao = mt.precision_score(y_test, y_pred_test)\n",
    "recall = mt.recall_score(y_test, y_pred_test)\n",
    "f1_score = mt.f1_score (y_test, y_pred_test)\n",
    "    \n",
    "resultados.append({\n",
    "    'acuracia': acuracia,\n",
    "    'precisao': precisao,\n",
    "    'recall': recall,\n",
    "    'F1_score': f1_score\n",
    "    })\n",
    "\n",
    "# Exibe os resultados em um DataFrame\n",
    "pd.DataFrame(resultados)"
   ]
  }
 ],
 "metadata": {
  "kernelspec": {
   "display_name": "bacon",
   "language": "python",
   "name": "python3"
  },
  "language_info": {
   "codemirror_mode": {
    "name": "ipython",
    "version": 3
   },
   "file_extension": ".py",
   "mimetype": "text/x-python",
   "name": "python",
   "nbconvert_exporter": "python",
   "pygments_lexer": "ipython3",
   "version": "3.12.11"
  }
 },
 "nbformat": 4,
 "nbformat_minor": 5
}
