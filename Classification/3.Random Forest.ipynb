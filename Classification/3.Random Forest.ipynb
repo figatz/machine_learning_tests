{
 "cells": [
  {
   "cell_type": "code",
   "execution_count": 1,
   "id": "843f4b7a",
   "metadata": {},
   "outputs": [],
   "source": [
    "import numpy as np\n",
    "import pandas as pd\n",
    "from sklearn import metrics as mt \n",
    "from sklearn import ensemble as en\n",
    "from matplotlib import pyplot as plt"
   ]
  },
  {
   "cell_type": "code",
   "execution_count": 2,
   "id": "f4982821",
   "metadata": {},
   "outputs": [],
   "source": [
    "X_training = pd.read_csv (r\"C:\\Users\\muzio\\OneDrive\\Documentos\\repos\\machine_learning\\Classification\\X_training.csv\")\n",
    "y_training = pd.read_csv (r\"C:\\Users\\muzio\\OneDrive\\Documentos\\repos\\machine_learning\\Classification\\y_training.csv\").values.ravel()\n",
    "\n",
    "X_validation = pd.read_csv (r\"C:\\Users\\muzio\\OneDrive\\Documentos\\repos\\machine_learning\\Classification\\X_validation.csv\")\n",
    "y_validation = pd.read_csv (r\"C:\\Users\\muzio\\OneDrive\\Documentos\\repos\\machine_learning\\Classification\\y_validation.csv\").values.ravel()\n",
    "\n",
    "X_test = pd.read_csv (r\"C:\\Users\\muzio\\OneDrive\\Documentos\\repos\\machine_learning\\Classification\\X_test.csv\")\n",
    "y_test = pd.read_csv (r\"C:\\Users\\muzio\\OneDrive\\Documentos\\repos\\machine_learning\\Classification\\y_test.csv\").values.ravel()\n"
   ]
  },
  {
   "cell_type": "code",
   "execution_count": null,
   "id": "98d858b6",
   "metadata": {},
   "outputs": [],
   "source": [
    "# Hyperparameter search\n",
    "resultados = []\n",
    "for n in [10, 50, 100]:\n",
    "    for depth in range (20, 35):\n",
    "        model = en.RandomForestClassifier(n_estimators=n, max_depth=depth, random_state=0, n_jobs=-1)\n",
    "        model.fit(X_training, y_training)\n",
    "        y_pred = model.predict(X_training)\n",
    "        # Calcula a acurácia (ou outra métrica que desejar)\n",
    "        acuracia = mt.accuracy_score(y_training, y_pred)\n",
    "        precisao = mt.precision_score(y_training, y_pred)\n",
    "        recall = mt.recall_score(y_training, y_pred)\n",
    "        f1_score = mt.f1_score (y_training, y_pred)\n",
    "    \n",
    "        resultados.append({\n",
    "            'max_depth': depth,\n",
    "            'n_estimators': n,\n",
    "            'acuracia': acuracia,\n",
    "            'precisao': precisao,\n",
    "            'recall': recall,\n",
    "            'F1_score': f1_score\n",
    "        })\n",
    "\n",
    "# Exibe os resultados em um DataFrame\n",
    "pd.DataFrame(resultados)"
   ]
  },
  {
   "cell_type": "code",
   "execution_count": null,
   "id": "e1d0026e",
   "metadata": {},
   "outputs": [],
   "source": [
    "resultados = []\n",
    "model = en.RandomForestClassifier(n_estimators=100, max_depth=29, random_state=0, n_jobs=-1)\n",
    "model.fit(X_training, y_training)\n",
    "y_pred = model.predict(X_validation)\n",
    "# Calcula a acurácia (ou outra métrica que desejar)\n",
    "acuracia = mt.accuracy_score(y_validation, y_pred)\n",
    "precisao = mt.precision_score(y_validation, y_pred)\n",
    "recall = mt.recall_score(y_validation, y_pred)\n",
    "f1_score = mt.f1_score (y_validation, y_pred)\n",
    "resultados.append({\n",
    "    'acuracia': acuracia,\n",
    "    'precisao': precisao,\n",
    "    'recall': recall,\n",
    "    'F1_score': f1_score\n",
    "})\n",
    "\n",
    "# Exibe os resultados em um DataFrame\n",
    "pd.DataFrame(resultados)"
   ]
  },
  {
   "cell_type": "code",
   "execution_count": 7,
   "id": "6a5e1999",
   "metadata": {},
   "outputs": [
    {
     "data": {
      "application/vnd.microsoft.datawrangler.viewer.v0+json": {
       "columns": [
        {
         "name": "index",
         "rawType": "int64",
         "type": "integer"
        },
        {
         "name": "acuracia",
         "rawType": "float64",
         "type": "float"
        },
        {
         "name": "precisao",
         "rawType": "float64",
         "type": "float"
        },
        {
         "name": "recall",
         "rawType": "float64",
         "type": "float"
        },
        {
         "name": "F1_score",
         "rawType": "float64",
         "type": "float"
        }
       ],
       "ref": "5bb3c2ab-1d6b-4751-98ba-4e8d9e21ee6e",
       "rows": [
        [
         "0",
         "0.9648553663152203",
         "0.9739776951672863",
         "0.9451825780906291",
         "0.9593641153880503"
        ]
       ],
       "shape": {
        "columns": 4,
        "rows": 1
       }
      },
      "text/html": [
       "<div>\n",
       "<style scoped>\n",
       "    .dataframe tbody tr th:only-of-type {\n",
       "        vertical-align: middle;\n",
       "    }\n",
       "\n",
       "    .dataframe tbody tr th {\n",
       "        vertical-align: top;\n",
       "    }\n",
       "\n",
       "    .dataframe thead th {\n",
       "        text-align: right;\n",
       "    }\n",
       "</style>\n",
       "<table border=\"1\" class=\"dataframe\">\n",
       "  <thead>\n",
       "    <tr style=\"text-align: right;\">\n",
       "      <th></th>\n",
       "      <th>acuracia</th>\n",
       "      <th>precisao</th>\n",
       "      <th>recall</th>\n",
       "      <th>F1_score</th>\n",
       "    </tr>\n",
       "  </thead>\n",
       "  <tbody>\n",
       "    <tr>\n",
       "      <th>0</th>\n",
       "      <td>0.964855</td>\n",
       "      <td>0.973978</td>\n",
       "      <td>0.945183</td>\n",
       "      <td>0.959364</td>\n",
       "    </tr>\n",
       "  </tbody>\n",
       "</table>\n",
       "</div>"
      ],
      "text/plain": [
       "   acuracia  precisao    recall  F1_score\n",
       "0  0.964855  0.973978  0.945183  0.959364"
      ]
     },
     "execution_count": 7,
     "metadata": {},
     "output_type": "execute_result"
    }
   ],
   "source": [
    "resultados = []\n",
    "# Retrain on train+val and evaluate on test set\n",
    "model_final = en.RandomForestClassifier(n_estimators=100, max_depth=29, random_state=0, n_jobs=-1)\n",
    "model_final.fit(pd.concat([X_training, X_validation]), np.concatenate([y_training, y_validation]))\n",
    "y_pred_test = model_final.predict(X_test)\n",
    "\n",
    "# Calcula a acurácia (ou outra métrica que desejar)\n",
    "acuracia = mt.accuracy_score(y_test, y_pred_test)\n",
    "precisao = mt.precision_score(y_test, y_pred_test)\n",
    "recall = mt.recall_score(y_test, y_pred_test)\n",
    "f1_score = mt.f1_score (y_test, y_pred_test)\n",
    "resultados.append({\n",
    "    'acuracia': acuracia,\n",
    "    'precisao': precisao,\n",
    "    'recall': recall,\n",
    "    'F1_score': f1_score\n",
    "})\n",
    "\n",
    "# Exibe os resultados em um DataFrame\n",
    "pd.DataFrame(resultados)"
   ]
  }
 ],
 "metadata": {
  "kernelspec": {
   "display_name": "bacon",
   "language": "python",
   "name": "python3"
  },
  "language_info": {
   "codemirror_mode": {
    "name": "ipython",
    "version": 3
   },
   "file_extension": ".py",
   "mimetype": "text/x-python",
   "name": "python",
   "nbconvert_exporter": "python",
   "pygments_lexer": "ipython3",
   "version": "3.12.11"
  }
 },
 "nbformat": 4,
 "nbformat_minor": 5
}
